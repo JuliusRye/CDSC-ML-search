{
 "cells": [
  {
   "cell_type": "code",
   "execution_count": 1,
   "id": "8d1b3ea4",
   "metadata": {},
   "outputs": [],
   "source": [
    "import sys, os\n",
    "sys.path.append(os.path.abspath(\n",
    "    os.getcwd()+\"/src\")\n",
    ")"
   ]
  },
  {
   "cell_type": "code",
   "execution_count": 2,
   "id": "0aa85a82",
   "metadata": {},
   "outputs": [
    {
     "name": "stderr",
     "output_type": "stream",
     "text": [
      "WARNING:2025-09-17 11:41:59,971:jax._src.xla_bridge:864: An NVIDIA GPU may be present on this machine, but a CUDA-enabled jaxlib is not installed. Falling back to cpu.\n"
     ]
    }
   ],
   "source": [
    "from pymatching import Matching\n",
    "from qecsim.models.rotatedplanar import RotatedPlanarCode, RotatedPlanarPauli\n",
    "from qecsim.models.generic import BiasedDepolarizingErrorModel\n",
    "import jax.numpy as jnp\n",
    "from jax import random\n",
    "from src.data_gen import noise_permutations_from_deformation, sample_errors\n",
    "from src.recursive_mwpm import recursive_mwpm\n",
    "\n",
    "key = random.key(42)"
   ]
  },
  {
   "cell_type": "code",
   "execution_count": 3,
   "id": "a97bc352",
   "metadata": {},
   "outputs": [
    {
     "name": "stdout",
     "output_type": "stream",
     "text": [
      "[[0 0 3 1 5 3 5 3 4 0 0 4 1]\n",
      " [3 2 4 1 4 1 5 4 1 4 5 0 5]\n",
      " [2 1 0 5 3 0 1 2 1 2 4 0 3]\n",
      " [1 1 0 3 1 5 2 2 2 5 5 4 5]\n",
      " [0 3 4 3 1 4 5 1 1 4 4 4 1]\n",
      " [3 4 2 4 3 4 3 5 1 2 4 4 4]\n",
      " [5 5 1 4 5 4 3 2 0 2 4 2 3]\n",
      " [1 2 4 1 1 3 3 2 3 1 4 5 4]\n",
      " [1 2 4 4 3 3 5 1 3 2 1 5 3]\n",
      " [2 4 5 3 0 2 3 2 2 2 2 3 4]\n",
      " [1 4 0 1 1 4 5 0 5 3 5 2 1]\n",
      " [4 2 0 1 3 5 3 1 0 3 0 4 1]\n",
      " [2 5 3 4 4 0 0 5 4 1 3 1 2]]\n"
     ]
    }
   ],
   "source": [
    "L = 13\n",
    "bias = 500\n",
    "error_probability = 0.1\n",
    "\n",
    "code = RotatedPlanarCode(L, L)\n",
    "noise_model = BiasedDepolarizingErrorModel(bias=bias, axis='Y')\n",
    "probabilities = jnp.array(noise_model.probability_distribution(error_probability))\n",
    "\n",
    "deformation = jnp.zeros((L, L), dtype=jnp.int32)\n",
    "deformation = random.randint(key, (L, L), 0, 6, dtype=jnp.int32)\n",
    "noise_permutations = noise_permutations_from_deformation(deformation)\n",
    "deformed_probabilities = probabilities[noise_permutations].reshape((code.n_k_d[0], 4))\n",
    "print(deformation)\n",
    "\n",
    "wx = -jnp.log(deformed_probabilities[:,1])\n",
    "wy = -jnp.log(deformed_probabilities[:,2])\n",
    "wz = -jnp.log(deformed_probabilities[:,3])"
   ]
  },
  {
   "cell_type": "code",
   "execution_count": 19,
   "id": "c907e5a0",
   "metadata": {},
   "outputs": [
    {
     "data": {
      "text/plain": [
       "(13, 13, 4)"
      ]
     },
     "execution_count": 19,
     "metadata": {},
     "output_type": "execute_result"
    }
   ],
   "source": [
    "noise_permutations.shape"
   ]
  },
  {
   "cell_type": "code",
   "execution_count": 15,
   "id": "36a9e31f",
   "metadata": {},
   "outputs": [
    {
     "name": "stdout",
     "output_type": "stream",
     "text": [
      "Error weight: 36.87                                                  \n",
      "  ┌───┐   ┌───┐   ┌───┐   ┌───┐   ┌─Z─┐   ┌───┐      \n",
      "  ·───X───·───·───·───·───·───·───·───Z───·───·───·─┐\n",
      "  │░X░│   │░░░│ Z │░░░│   │░░░│   │░░░│ Z │░░░│   │░│\n",
      "┌─·───·───·───Z───·───·───·───·───·───·───·───·───·─┘\n",
      "│░│   │░░░│ Z │░░░│   │░░░│   │░X░│   │░░░│   │░░░│  \n",
      "└─·───·───·───·───·───·───·───·───X───·───·───·───·─┐\n",
      "  │░░░│   │░░░│   │░░░│   │░░░│   │░X░│   │░░░│   │░│\n",
      "┌─·───·───·───·───·───·───·───·───·───·───·───·───·─┘\n",
      "│░│   │░░░│   │░░░│ Z │░X░│   │░░░│   │░░░│   │░░░│  \n",
      "└─·───·───·───·───·───Y───·───·───·───·───·───·───·─┐\n",
      "  │░░░│   │░░░│   │░X░│ Z │░X░│   │░░░│ Z │░░░│   │░│\n",
      "┌─·───·───·───·───·───·───Y───·───·───Z───·───·───·─┘\n",
      "│░│   │░░░│   │░░░│   │░X░│ Z │░░░│ Z │░░░│   │░X░│  \n",
      "└─·───·───·───·───·───·───·───·───·───·───·───X───·─┐\n",
      "  │░░░│   │░░░│   │░░░│   │░░░│   │░░░│   │░X░│   │░│\n",
      "┌─·───·───·───·───·───·───·───·───·───·───·───·───·─┘\n",
      "│░│   │░░░│   │░░░│   │░X░│   │░░░│   │░░░│   │░░░│  \n",
      "└─·───·───·───·───·───·───X───·───·───·───·───·───·─┐\n",
      "  │░░░│   │░░░│   │░░░│   │░X░│   │░░░│   │░░░│   │░X\n",
      "┌─Z───·───·───·───·───·───·───·───·───·───·───·───X─┘\n",
      "│░│ Z │░X░│ Z │░░░│   │░░░│   │░░░│ Z │░░░│   │░X░│  \n",
      "└─·───·───Y───·───·───·───·───·───Z───·───·───·───·─┐\n",
      "  │░░░│ Z │░X░│   │░░░│   │░░░│ Z │░░░│   │░X░│   │░│\n",
      "┌─·───·───·───·───·───·───·───·───·───·───X───·───·─┘\n",
      "│░│ Z │░X░│   │░░░│   │░░░│   │░░░│ Z │░X░│   │░░░│  \n",
      "└─·───Y───·───·───·───·───·───·───Z───·───·───·───·  \n",
      "      └─Z─┘   └───┘   └───┘   └─Z─┘   └───┘   └───┘  \n"
     ]
    }
   ],
   "source": [
    "subkey, key = random.split(key)\n",
    "\n",
    "error = sample_errors(subkey, code, noise_model, error_probability, noise_permutations)\n",
    "\n",
    "syndrome = code.stabilizers @ error\n",
    "logicals = code.logicals @ error\n",
    "\n",
    "error_z, error_x = error.reshape((2,-1))\n",
    "error_weight = sum([\n",
    "    wx[jnp.where(jnp.logical_and(error_x==1, error_z==0))].sum(),\n",
    "    wy[jnp.where(jnp.logical_and(error_x==1, error_z==1))].sum(),\n",
    "    wz[jnp.where(jnp.logical_and(error_x==0, error_z==1))].sum(),\n",
    "])\n",
    "print(f\"Error weight: {error_weight:.2f}\"+50*' ')\n",
    "print(code.ascii_art(syndrome, RotatedPlanarPauli(code, error)))"
   ]
  },
  {
   "cell_type": "markdown",
   "id": "b7250ffc",
   "metadata": {},
   "source": [
    "# Standard MWPM-decoder recovery proposal"
   ]
  },
  {
   "cell_type": "code",
   "execution_count": 16,
   "id": "d8e7a33e",
   "metadata": {},
   "outputs": [
    {
     "name": "stdout",
     "output_type": "stream",
     "text": [
      "Recovery weight: 170.43\n",
      "  ┌───┐   ┌───┐   ┌───┐   ┌───┐   ┌─Z─┐   ┌───┐      \n",
      "  X───·───·───·───·───·───·───·───·───Z───·───·───·─┐\n",
      "  │░X░│   │░░░│ Z │░░░│   │░░░│   │░░░│ Z │░░░│   │░│\n",
      "┌─·───·───·───Z───·───·───·───·───·───·───·───·───·─┘\n",
      "│░│   │░░░│ Z │░░░│   │░░░│   │░X░│   │░░░│   │░░░│  \n",
      "└─·───·───·───·───·───·───·───·───X───·───·───·───·─┐\n",
      "  │░░░│   │░░░│   │░░░│   │░░░│   │░X░│   │░░░│   │░│\n",
      "┌─·───·───·───·───·───·───·───·───·───·───·───·───·─┘\n",
      "│░│   │░░░│   │░░░│ Z │░X░│   │░░░│   │░░░│   │░░░│  \n",
      "└─·───·───·───·───·───Y───·───·───·───·───·───·───·─┐\n",
      "  │░░░│   │░░░│   │░X░│ Z │░X░│   │░░░│ Z │░░░│   │░│\n",
      "┌─·───·───·───·───·───·───X───·───·───Z───·───·───·─┘\n",
      "│░│   │░░░│   │░░░│   │░X░│ Z │░░░│ Z │░░░│   │░X░│  \n",
      "└─·───·───·───·───·───·───Z───·───·───·───·───X───·─┐\n",
      "  │░░░│   │░░░│   │░░░│ Z │░░░│   │░░░│   │░X░│   │░│\n",
      "┌─·───·───·───·───·───Z───·───·───·───·───·───·───·─┘\n",
      "│░│   │░░░│   │░░░│ Z │░X░│   │░░░│   │░░░│   │░░░│  \n",
      "└─·───·───·───·───Z───·───X───·───·───·───·───·───·─┐\n",
      "  │░░░│   │░░░│ Z │░░░│   │░X░│   │░░░│   │░░░│   │░X\n",
      "┌─·───·───·───Z───·───·───·───·───·───·───·───·───X─┘\n",
      "│░│ Z │░X░│ Z │░░░│   │░░░│   │░░░│ Z │░░░│   │░X░│  \n",
      "└─·───Z───X───·───·───·───·───·───Z───·───·───·───·─┐\n",
      "  │░░░│ Z │░X░│   │░░░│   │░░░│ Z │░░░│   │░X░│   │░│\n",
      "┌─·───·───·───·───·───·───·───·───·───·───X───·───·─┘\n",
      "│░│ Z │░X░│   │░░░│   │░░░│   │░░░│ Z │░X░│   │░░░│  \n",
      "└─·───Y───·───·───·───·───·───·───Z───·───·───·───·  \n",
      "      └─Z─┘   └───┘   └───┘   └─Z─┘   └───┘   └───┘  \n"
     ]
    }
   ],
   "source": [
    "decoder = Matching(\n",
    "    graph=code.stabilizers\n",
    ")\n",
    "\n",
    "recovery = decoder.decode(syndrome)\n",
    "recovery_syndromes = code.stabilizers @ recovery\n",
    "recovery_logicals = code.logicals @ recovery\n",
    "\n",
    "recovery_x, recovery_z = recovery.reshape((2,-1))\n",
    "recovery_weight = sum([\n",
    "    wx[jnp.where(jnp.logical_and(recovery_x==1, recovery_z==0))].sum(),\n",
    "    wy[jnp.where(jnp.logical_and(recovery_x==1, recovery_z==1))].sum(),\n",
    "    wz[jnp.where(jnp.logical_and(recovery_x==0, recovery_z==1))].sum(),\n",
    "])\n",
    "print(f\"Recovery weight: {recovery_weight:.2f}\")\n",
    "print(code.ascii_art(recovery_syndromes, RotatedPlanarPauli(code, recovery)))"
   ]
  },
  {
   "cell_type": "markdown",
   "id": "b718eed9",
   "metadata": {},
   "source": [
    "# Recursive MWPM-decoder recovery proposal"
   ]
  },
  {
   "cell_type": "markdown",
   "id": "509ffa2e",
   "metadata": {},
   "source": [
    "Method based on the following paper: https://journals.aps.org/pra/pdf/10.1103/PhysRevA.108.022401"
   ]
  },
  {
   "cell_type": "code",
   "execution_count": 17,
   "id": "f0453a57",
   "metadata": {},
   "outputs": [
    {
     "name": "stdout",
     "output_type": "stream",
     "text": [
      "Recovery weight: 161.24                                                  \n",
      "  ┌───┐   ┌───┐   ┌───┐   ┌───┐   ┌─Z─┐   ┌───┐      \n",
      "  X───·───·───·───·───·───·───·───·───Z───·───·───·─┐\n",
      "  │░X░│   │░░░│ Z │░░░│   │░░░│   │░░░│ Z │░░░│   │░│\n",
      "┌─·───·───·───Z───·───·───·───·───·───·───·───·───·─┘\n",
      "│░│   │░░░│ Z │░░░│   │░░░│   │░X░│   │░░░│   │░░░│  \n",
      "└─·───·───·───·───·───·───·───·───X───·───·───·───·─┐\n",
      "  │░░░│   │░░░│   │░░░│   │░░░│   │░X░│   │░░░│   │░│\n",
      "┌─·───·───·───·───·───·───·───·───·───·───·───·───·─┘\n",
      "│░│   │░░░│   │░░░│ Z │░X░│   │░░░│   │░░░│   │░░░│  \n",
      "└─·───·───·───·───·───Y───·───·───·───·───·───·───·─┐\n",
      "  │░░░│   │░░░│   │░X░│ Z │░X░│   │░░░│ Z │░░░│   │░│\n",
      "┌─·───·───·───·───·───·───X───·───·───Z───·───·───·─┘\n",
      "│░│   │░░░│   │░░░│   │░X░│ Z │░░░│ Z │░░░│   │░X░│  \n",
      "└─·───·───·───·───·───·───·───Z───·───·───·───X───·─┐\n",
      "  │░░░│   │░░░│   │░░░│   │░░░│ Z │░░░│   │░X░│   │░│\n",
      "┌─·───·───·───·───·───·───·───Z───·───·───·───·───·─┘\n",
      "│░│   │░░░│   │░░░│   │░X░│ Z │░░░│   │░░░│   │░X░│  \n",
      "└─·───·───·───·───·───·───Y───·───·───·───·───X───X─┐\n",
      "  │░░░│   │░░░│   │░░░│ Z │░X░│ Z │░░░│   │░X░│   │░X\n",
      "┌─·───·───·───·───·───Z───·───Z───Z───·───·───X───·─┘\n",
      "│░│ Z │░X░│ Z │░░░│ Z │░░░│ Z │░░░│ Z │░░░│   │░X░│  \n",
      "└─·───Z───X───Z───Z───·───·───Z───·───·───·───·───·─┐\n",
      "  │░░░│ Z │░X░│ Z │░░░│   │░░░│ Z │░░░│   │░X░│   │░│\n",
      "┌─·───·───X───X───·───·───·───·───·───·───X───·───·─┘\n",
      "│░│ Z │░X░│   │░X░│   │░░░│   │░░░│ Z │░X░│   │░░░│  \n",
      "└─·───Z───·───X───·───·───·───·───Z───·───·───·───·  \n",
      "      └─Z─┘   └───┘   └───┘   └─Z─┘   └───┘   └───┘  \n"
     ]
    }
   ],
   "source": [
    "recovery = recursive_mwpm(code, syndrome, noise_model, error_probability, noise_permutations, iteration_limit=10, verbose=True)\n",
    "recovery_x, recovery_z = recovery.reshape((2,-1))\n",
    "recovery_weight = sum([\n",
    "    wx[jnp.where(jnp.logical_and(recovery_x==1, recovery_z==0))].sum(),\n",
    "    wy[jnp.where(jnp.logical_and(recovery_x==1, recovery_z==1))].sum(),\n",
    "    wz[jnp.where(jnp.logical_and(recovery_x==0, recovery_z==1))].sum(),\n",
    "])\n",
    "print(f\"Recovery weight: {recovery_weight:.2f}\"+50*' ')\n",
    "print(code.ascii_art(code.stabilizers @ recovery, RotatedPlanarPauli(code, recovery)))"
   ]
  }
 ],
 "metadata": {
  "kernelspec": {
   "display_name": ".venv",
   "language": "python",
   "name": "python3"
  },
  "language_info": {
   "codemirror_mode": {
    "name": "ipython",
    "version": 3
   },
   "file_extension": ".py",
   "mimetype": "text/x-python",
   "name": "python",
   "nbconvert_exporter": "python",
   "pygments_lexer": "ipython3",
   "version": "3.12.3"
  }
 },
 "nbformat": 4,
 "nbformat_minor": 5
}
