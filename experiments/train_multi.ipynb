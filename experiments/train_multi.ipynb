{
 "cells": [
  {
   "cell_type": "code",
   "execution_count": 2,
   "id": "71b559f4",
   "metadata": {},
   "outputs": [
    {
     "name": "stdout",
     "output_type": "stream",
     "text": [
      "python experiments/train_mCNN.py CSS_d3_10K CSS 3 default 10_000; python experiments/train_mCNN.py XZZX_d3_10K XZZX 3 default 10_000; python experiments/train_mCNN.py XY_d3_10K XY 3 default 10_000; python experiments/train_mCNN.py C1_d3_10K C1 3 default 10_000; python experiments/train_mCNN.py CSS_d5_10K CSS 5 default 10_000; python experiments/train_mCNN.py XZZX_d5_10K XZZX 5 default 10_000; python experiments/train_mCNN.py XY_d5_10K XY 5 default 10_000; python experiments/train_mCNN.py C1_d5_10K C1 5 default 10_000; python experiments/train_mCNN.py CSS_d7_10K CSS 7 default 10_000; python experiments/train_mCNN.py XZZX_d7_10K XZZX 7 default 10_000; python experiments/train_mCNN.py XY_d7_10K XY 7 default 10_000; python experiments/train_mCNN.py C1_d7_10K C1 7 default 10_000; python experiments/train_mCNN.py CSS_d3_100K CSS 3 default 100_000; python experiments/train_mCNN.py XZZX_d3_100K XZZX 3 default 100_000; python experiments/train_mCNN.py XY_d3_100K XY 3 default 100_000; python experiments/train_mCNN.py C1_d3_100K C1 3 default 100_000; python experiments/train_mCNN.py CSS_d5_100K CSS 5 default 100_000; python experiments/train_mCNN.py XZZX_d5_100K XZZX 5 default 100_000; python experiments/train_mCNN.py XY_d5_100K XY 5 default 100_000; python experiments/train_mCNN.py C1_d5_100K C1 5 default 100_000; python experiments/train_mCNN.py CSS_d7_100K CSS 7 default 100_000; python experiments/train_mCNN.py XZZX_d7_100K XZZX 7 default 100_000; python experiments/train_mCNN.py XY_d7_100K XY 7 default 100_000; python experiments/train_mCNN.py C1_d7_100K C1 7 default 100_000; python experiments/train_mCNN.py CSS_d3_1M CSS 3 default 1_000_000; python experiments/train_mCNN.py XZZX_d3_1M XZZX 3 default 1_000_000; python experiments/train_mCNN.py XY_d3_1M XY 3 default 1_000_000; python experiments/train_mCNN.py C1_d3_1M C1 3 default 1_000_000; python experiments/train_mCNN.py CSS_d5_1M CSS 5 default 1_000_000; python experiments/train_mCNN.py XZZX_d5_1M XZZX 5 default 1_000_000; python experiments/train_mCNN.py XY_d5_1M XY 5 default 1_000_000; python experiments/train_mCNN.py C1_d5_1M C1 5 default 1_000_000; python experiments/train_mCNN.py CSS_d7_1M CSS 7 default 1_000_000; python experiments/train_mCNN.py XZZX_d7_1M XZZX 7 default 1_000_000; python experiments/train_mCNN.py XY_d7_1M XY 7 default 1_000_000; python experiments/train_mCNN.py C1_d7_1M C1 7 default 1_000_000; python experiments/train_mCNN.py CSS_d3_10M CSS 3 default 10_000_000; python experiments/train_mCNN.py XZZX_d3_10M XZZX 3 default 10_000_000; python experiments/train_mCNN.py XY_d3_10M XY 3 default 10_000_000; python experiments/train_mCNN.py C1_d3_10M C1 3 default 10_000_000; python experiments/train_mCNN.py CSS_d5_10M CSS 5 default 10_000_000; python experiments/train_mCNN.py XZZX_d5_10M XZZX 5 default 10_000_000; python experiments/train_mCNN.py XY_d5_10M XY 5 default 10_000_000; python experiments/train_mCNN.py C1_d5_10M C1 5 default 10_000_000; python experiments/train_mCNN.py CSS_d7_10M CSS 7 default 10_000_000; python experiments/train_mCNN.py XZZX_d7_10M XZZX 7 default 10_000_000; python experiments/train_mCNN.py XY_d7_10M XY 7 default 10_000_000; python experiments/train_mCNN.py C1_d7_10M C1 7 default 10_000_000\n"
     ]
    }
   ],
   "source": [
    "script = \"python experiments/train_mCNN.py\"\n",
    "training_batchess = [\n",
    "    (\"10_000\", \"10K\"),\n",
    "    (\"100_000\", \"100K\"),\n",
    "    (\"1_000_000\", \"1M\"),\n",
    "    (\"10_000_000\", \"10M\"),\n",
    "]\n",
    "deformations = [\n",
    "    \"CSS\",\n",
    "    \"XZZX\",\n",
    "    \"XY\",\n",
    "    \"C1\",\n",
    "]\n",
    "distances = [\n",
    "    3, \n",
    "    5, \n",
    "    7\n",
    "]\n",
    "commands = []\n",
    "for (tb, tb_name) in training_batchess:\n",
    "    for d in distances:\n",
    "        for deformation_name in deformations:\n",
    "            name = f\"{deformation_name}_d{d}_{tb_name}\"\n",
    "            cmd = f\"{script} {name} {deformation_name} {d} default {tb}\"\n",
    "            commands.append(cmd)\n",
    "print('; '.join(commands))\n",
    "            "
   ]
  },
  {
   "cell_type": "code",
   "execution_count": 3,
   "id": "502dc80f",
   "metadata": {},
   "outputs": [
    {
     "name": "stdout",
     "output_type": "stream",
     "text": [
      "python experiments/train_mCNN.py Generalized_d3_10K Generalized 3 default 10_000; python experiments/train_mCNN.py Generalized_d5_10K Generalized 5 default 10_000; python experiments/train_mCNN.py Generalized_d7_10K Generalized 7 default 10_000; python experiments/train_mCNN.py Generalized_d3_100K Generalized 3 default 100_000; python experiments/train_mCNN.py Generalized_d5_100K Generalized 5 default 100_000; python experiments/train_mCNN.py Generalized_d7_100K Generalized 7 default 100_000; python experiments/train_mCNN.py Generalized_d3_1M Generalized 3 default 1_000_000; python experiments/train_mCNN.py Generalized_d5_1M Generalized 5 default 1_000_000; python experiments/train_mCNN.py Generalized_d7_1M Generalized 7 default 1_000_000; python experiments/train_mCNN.py Generalized_d3_10M Generalized 3 default 10_000_000; python experiments/train_mCNN.py Generalized_d5_10M Generalized 5 default 10_000_000; python experiments/train_mCNN.py Generalized_d7_10M Generalized 7 default 10_000_000\n"
     ]
    }
   ],
   "source": [
    "script = \"python experiments/train_mCNN.py\"\n",
    "training_batchess = [\n",
    "    (\"10_000\", \"10K\"),\n",
    "    (\"100_000\", \"100K\"),\n",
    "    (\"1_000_000\", \"1M\"),\n",
    "    (\"10_000_000\", \"10M\"),\n",
    "]\n",
    "deformations = [\n",
    "    \"Generalized\",\n",
    "]\n",
    "distances = [3, 5, 7]\n",
    "commands = []\n",
    "for (tb, tb_name) in training_batchess:\n",
    "    for d in distances:\n",
    "        for deformation_name in deformations:\n",
    "            name = f\"{deformation_name}_d{d}_{tb_name}\"\n",
    "            cmd = f\"{script} {name} {deformation_name} {d} default {tb}\"\n",
    "            commands.append(cmd)\n",
    "print('; '.join(commands))\n",
    "            "
   ]
  }
 ],
 "metadata": {
  "kernelspec": {
   "display_name": ".venv (3.12.3)",
   "language": "python",
   "name": "python3"
  },
  "language_info": {
   "codemirror_mode": {
    "name": "ipython",
    "version": 3
   },
   "file_extension": ".py",
   "mimetype": "text/x-python",
   "name": "python",
   "nbconvert_exporter": "python",
   "pygments_lexer": "ipython3",
   "version": "3.12.3"
  }
 },
 "nbformat": 4,
 "nbformat_minor": 5
}
