{
 "cells": [
  {
   "cell_type": "code",
   "execution_count": 1,
   "id": "1ade3ca9",
   "metadata": {},
   "outputs": [],
   "source": [
    "import jax.numpy as jnp\n",
    "from jax import random, jit, lax, value_and_grad\n",
    "import optax\n",
    "from tqdm import tqdm\n",
    "import os\n",
    "\n",
    "from src.neural_network_decoders import TransformerDecoder, print_params_structure\n",
    "from qecsim.models.rotatedplanar import RotatedPlanarCode\n",
    "\n",
    "key = random.key(0)"
   ]
  },
  {
   "cell_type": "markdown",
   "id": "1dcf50af",
   "metadata": {},
   "source": [
    "# Load data"
   ]
  },
  {
   "cell_type": "code",
   "execution_count": 2,
   "id": "bb8ebe41",
   "metadata": {},
   "outputs": [
    {
     "name": "stdout",
     "output_type": "stream",
     "text": [
      "syndromes_initial: (2000, 1000, 8)\n",
      "observables: (2000, 1000)\n",
      "is_using_the_z_basis: (2000,)\n",
      "syndromes_rounds: (2000, 1000, 3, 8)\n",
      "deformations: (2000, 9)\n",
      "\n",
      "x_init: (2000000, 17)\n",
      "x: (2000000, 3, 17)\n",
      "y: (2000000,)\n",
      "bz: (2000000,)\n"
     ]
    }
   ],
   "source": [
    "data_dir = \"../data_sets/stim_spin_3x3_r3/\"\n",
    "code = RotatedPlanarCode(3, 3)\n",
    "\n",
    "data = {\n",
    "    file_name.split(\".\")[0]: jnp.load(f\"{data_dir}/{file_name}\") for file_name in os.listdir(data_dir) if file_name.endswith(\".npy\")\n",
    "}\n",
    "for name, val in data.items():\n",
    "    print(f\"{name}: {val.shape}\")\n",
    "\n",
    "num_deformations, num_shots, num_rounds, num_syndromes = data[\"syndromes_rounds\"].shape\n",
    "x_init = jnp.append(\n",
    "    data[\"syndromes_initial\"], \n",
    "    jnp.tile(data[\"deformations\"][:, None, :], (1, num_shots, 1))+2, \n",
    "    axis=-1\n",
    ").reshape(num_deformations*num_shots, -1)\n",
    "x = jnp.append(\n",
    "    data[\"syndromes_rounds\"], \n",
    "    jnp.tile(data[\"deformations\"][:, None, None, :], (1, num_shots, num_rounds, 1))+2, \n",
    "    axis=-1\n",
    ").reshape(num_deformations*num_shots, num_rounds, -1)\n",
    "y = data[\"observables\"].flatten()\n",
    "bz = jnp.tile(data[\"is_using_the_z_basis\"][:, None], (1, num_shots)).flatten()\n",
    "print()\n",
    "print(f\"x_init: {x_init.shape}\")\n",
    "print(f\"x: {x.shape}\")\n",
    "print(f\"y: {y.shape}\")\n",
    "print(f\"bz: {bz.shape}\")"
   ]
  },
  {
   "cell_type": "code",
   "execution_count": 3,
   "id": "33caa624",
   "metadata": {},
   "outputs": [
    {
     "name": "stdout",
     "output_type": "stream",
     "text": [
      "\n",
      "x_init:\n",
      "[1 1 0 0 1 1 1 0 4 7 5 7 3 6 4 2 6]\n",
      "\n",
      "x:\n",
      "[[1 1 1 0 1 1 1 1 4 7 5 7 3 6 4 2 6]\n",
      " [1 1 1 0 1 1 1 1 4 7 5 7 3 6 4 2 6]\n",
      " [1 1 1 0 1 1 0 1 4 7 5 7 3 6 4 2 6]]\n",
      "\n",
      "y: 0\n",
      "\n",
      "bz: False\n"
     ]
    }
   ],
   "source": [
    "def shuffle_data(key, *sets):\n",
    "    \"\"\"\n",
    "    Shuffle the data along the first axis.\n",
    "    \n",
    "    Args:\n",
    "        key: JAX random key.\n",
    "        *sets: Variable number of arrays to be shuffled in unison along the first axis.\n",
    "    Returns:\n",
    "        Tuple:\n",
    "            - new_key: JAX random key after splitting.\n",
    "            - shuffled_data: List of shuffled arrays.\n",
    "    \"\"\"\n",
    "    subkey, key = random.split(key)\n",
    "    perm = random.permutation(subkey, sets[0].shape[0])\n",
    "    shuffled_data = [set[perm] for set in sets]\n",
    "    return key, shuffled_data\n",
    "\n",
    "key, [x_init, x, y, bz] = shuffle_data(key, x_init, x, y, bz)\n",
    "\n",
    "# Show data for first training sample\n",
    "print(\"\\nx_init:\")\n",
    "print(x_init[0])\n",
    "print(\"\\nx:\")\n",
    "print(x[0])\n",
    "print(\"\\ny:\", y[0])\n",
    "print(\"\\nbz:\", bz[0])"
   ]
  },
  {
   "cell_type": "markdown",
   "id": "44b11a1b",
   "metadata": {},
   "source": [
    "# Initialize model"
   ]
  },
  {
   "cell_type": "code",
   "execution_count": 100,
   "id": "bfc2f68a",
   "metadata": {},
   "outputs": [],
   "source": [
    "batch_size = 64\n",
    "num_epochs = 100\n",
    "\n",
    "init_key, shuffle_key = random.split(random.key(0), num=2)"
   ]
  },
  {
   "cell_type": "code",
   "execution_count": 101,
   "id": "f4596d1b",
   "metadata": {},
   "outputs": [],
   "source": [
    "def cords_from_code(code: RotatedPlanarCode) -> tuple[list[tuple[float, float]], list[tuple[float, float]]]:\n",
    "    \"\"\"Get the coordinates of the plaquettes and data qubits from a rotated planar code and returns them as two separate lists.\"\"\"\n",
    "    plaquette_coords = code._plaquette_indices\n",
    "    data_qubit_coords = [(x-.5, y-.5) for y in range(code.size[0]) for x in range(code.size[1])]\n",
    "    return plaquette_coords, data_qubit_coords"
   ]
  },
  {
   "cell_type": "code",
   "execution_count": 102,
   "id": "f7550e85",
   "metadata": {},
   "outputs": [
    {
     "name": "stdout",
     "output_type": "stream",
     "text": [
      "params\n",
      "  embedder\n",
      "    embedder\n",
      "      embedding:\t shape (8, 32)\n",
      "  transformer_first_round\n",
      "    encoder_layers_0\n",
      "      norm_attention\n",
      "        scale:\t shape (32,)\n",
      "        bias:\t shape (32,)\n",
      "      attention\n",
      "        query\n",
      "          kernel:\t shape (32, 4, 8)\n",
      "          bias:\t shape (4, 8)\n",
      "        key\n",
      "          kernel:\t shape (32, 4, 8)\n",
      "          bias:\t shape (4, 8)\n",
      "        value\n",
      "          kernel:\t shape (32, 4, 8)\n",
      "          bias:\t shape (4, 8)\n",
      "        out\n",
      "          kernel:\t shape (4, 8, 32)\n",
      "          bias:\t shape (32,)\n",
      "      norm_mlp\n",
      "        scale:\t shape (32,)\n",
      "        bias:\t shape (32,)\n",
      "      gated_mlp\n",
      "        fc_layer_0\n",
      "          kernel:\t shape (32, 128)\n",
      "          bias:\t shape (128,)\n",
      "        fc_layer_1\n",
      "          kernel:\t shape (64, 32)\n",
      "          bias:\t shape (32,)\n",
      "    encoder_layers_1\n",
      "      norm_attention\n",
      "        scale:\t shape (32,)\n",
      "        bias:\t shape (32,)\n",
      "      attention\n",
      "        query\n",
      "          kernel:\t shape (32, 4, 8)\n",
      "          bias:\t shape (4, 8)\n",
      "        key\n",
      "          kernel:\t shape (32, 4, 8)\n",
      "          bias:\t shape (4, 8)\n",
      "        value\n",
      "          kernel:\t shape (32, 4, 8)\n",
      "          bias:\t shape (4, 8)\n",
      "        out\n",
      "          kernel:\t shape (4, 8, 32)\n",
      "          bias:\t shape (32,)\n",
      "      norm_mlp\n",
      "        scale:\t shape (32,)\n",
      "        bias:\t shape (32,)\n",
      "      gated_mlp\n",
      "        fc_layer_0\n",
      "          kernel:\t shape (32, 128)\n",
      "          bias:\t shape (128,)\n",
      "        fc_layer_1\n",
      "          kernel:\t shape (64, 32)\n",
      "          bias:\t shape (32,)\n",
      "  transformer_internal_round\n",
      "    encoder_layers_0\n",
      "      norm_attention\n",
      "        scale:\t shape (32,)\n",
      "        bias:\t shape (32,)\n",
      "      attention\n",
      "        query\n",
      "          kernel:\t shape (32, 4, 8)\n",
      "          bias:\t shape (4, 8)\n",
      "        key\n",
      "          kernel:\t shape (32, 4, 8)\n",
      "          bias:\t shape (4, 8)\n",
      "        value\n",
      "          kernel:\t shape (32, 4, 8)\n",
      "          bias:\t shape (4, 8)\n",
      "        out\n",
      "          kernel:\t shape (4, 8, 32)\n",
      "          bias:\t shape (32,)\n",
      "      norm_mlp\n",
      "        scale:\t shape (32,)\n",
      "        bias:\t shape (32,)\n",
      "      gated_mlp\n",
      "        fc_layer_0\n",
      "          kernel:\t shape (32, 128)\n",
      "          bias:\t shape (128,)\n",
      "        fc_layer_1\n",
      "          kernel:\t shape (64, 32)\n",
      "          bias:\t shape (32,)\n",
      "    encoder_layers_1\n",
      "      norm_attention\n",
      "        scale:\t shape (32,)\n",
      "        bias:\t shape (32,)\n",
      "      attention\n",
      "        query\n",
      "          kernel:\t shape (32, 4, 8)\n",
      "          bias:\t shape (4, 8)\n",
      "        key\n",
      "          kernel:\t shape (32, 4, 8)\n",
      "          bias:\t shape (4, 8)\n",
      "        value\n",
      "          kernel:\t shape (32, 4, 8)\n",
      "          bias:\t shape (4, 8)\n",
      "        out\n",
      "          kernel:\t shape (4, 8, 32)\n",
      "          bias:\t shape (32,)\n",
      "      norm_mlp\n",
      "        scale:\t shape (32,)\n",
      "        bias:\t shape (32,)\n",
      "      gated_mlp\n",
      "        fc_layer_0\n",
      "          kernel:\t shape (32, 128)\n",
      "          bias:\t shape (128,)\n",
      "        fc_layer_1\n",
      "          kernel:\t shape (64, 32)\n",
      "          bias:\t shape (32,)\n",
      "  decoder\n",
      "    fc\n",
      "      kernel:\t shape (32, 4)\n",
      "      bias:\t shape (4,)\n"
     ]
    }
   ],
   "source": [
    "plaquette_coords, data_qubit_coords = cords_from_code(code)\n",
    "model = TransformerDecoder(\n",
    "    site_locations=jnp.array(plaquette_coords + data_qubit_coords),\n",
    "    output_features=4,\n",
    "    vocab_size=8,\n",
    "    num_layers=2,\n",
    "    heads=4,\n",
    "    d_model=32,\n",
    "    mlp_dim=128,\n",
    "    training=False\n",
    ")\n",
    "model_params = model.init(init_key, x_init[:batch_size], x[:batch_size])  # Initialize model parameters\n",
    "print_params_structure(model_params)"
   ]
  },
  {
   "cell_type": "code",
   "execution_count": 103,
   "id": "17fb3150",
   "metadata": {},
   "outputs": [
    {
     "name": "stdout",
     "output_type": "stream",
     "text": [
      "\n",
      "Model output for first training sample:\n",
      "in:\n",
      " [1 1 1 0 0 0 0 0 5 3 7 7 7 2 3 7 5]\n",
      "[[1 1 1 0 0 0 0 0 5 3 7 7 7 2 3 7 5]\n",
      " [1 1 1 0 0 0 0 0 5 3 7 7 7 2 3 7 5]\n",
      " [1 1 1 0 0 1 0 0 5 3 7 7 7 2 3 7 5]]\n",
      "Out:\n",
      " [2.91%, 4.06%, 57.42%, 35.61%]\n"
     ]
    }
   ],
   "source": [
    "shuffle_key, [x_init, x, y, bz] = shuffle_data(shuffle_key, x_init, x, y, bz)\n",
    "input = (x_init[:1], x[:1])  # Input for a single training sample\n",
    "output = model.apply(model_params, *input)[0]  # Forward pass with a batch of data\n",
    "print(\"\\nModel output for first training sample:\")\n",
    "print(f\"in:\\n {input[0][0]}\\n{input[1][0]}\")\n",
    "print(f\"Out:\\n [{', '.join(f'{p:.2%}' for p in output)}]\")"
   ]
  },
  {
   "cell_type": "markdown",
   "id": "944e661c",
   "metadata": {},
   "source": [
    "# Evaluation functions"
   ]
  },
  {
   "cell_type": "code",
   "execution_count": 104,
   "id": "f525fa14",
   "metadata": {},
   "outputs": [
    {
     "data": {
      "text/plain": [
       "Array(1.3491414, dtype=float32)"
      ]
     },
     "execution_count": 104,
     "metadata": {},
     "output_type": "execute_result"
    }
   ],
   "source": [
    "@jit\n",
    "def binary_cross_entropy(y_true, y_pred):\n",
    "    # Clip predictions to avoid log(0)\n",
    "    y_pred = jnp.clip(y_pred, 1e-7, 1.0 - 1e-7)\n",
    "    # Calculate binary cross-entropy\n",
    "    return -jnp.mean(y_true * jnp.log(y_pred) + (1 - y_true) * jnp.log(1 - y_pred))\n",
    "\n",
    "@jit\n",
    "def loss_fn(params, x_init, x, y, bz):\n",
    "    # Get model predictions\n",
    "    p = model.apply(params, x_init, x)\n",
    "    p_I, p_X, p_Y, p_Z = p[:,0], p[:,1], p[:,2], p[:,3]\n",
    "    # Calculate probability of a logical flip based on the basis\n",
    "    p_flip_z = p_X + p_Y\n",
    "    p_flip_x = p_Z + p_Y\n",
    "    # Chose which flip to predict based on the basis used\n",
    "    p_flip = bz * p_flip_z + (1.0 - bz) * p_flip_x\n",
    "    # Calculate binary cross-entropy loss\n",
    "    return binary_cross_entropy(y, p_flip)\n",
    "\n",
    "loss_fn(model_params, x_init[:batch_size], x[:batch_size], y[:batch_size], bz[:batch_size])"
   ]
  },
  {
   "cell_type": "code",
   "execution_count": 105,
   "id": "0960cc16",
   "metadata": {},
   "outputs": [
    {
     "data": {
      "text/plain": [
       "Array(0.59375, dtype=float32)"
      ]
     },
     "execution_count": 105,
     "metadata": {},
     "output_type": "execute_result"
    }
   ],
   "source": [
    "@jit\n",
    "def estimate_ler(params, x_init, x, y, bz):\n",
    "    probs = model.apply(params, x_init, x)\n",
    "    # Get predicted logical Pauli error\n",
    "    prediction = probs.argmax(axis=1) # Get the class with the highest probability (0: I, 1: X, 2: Y, 3: Z)\n",
    "    err_I = prediction == 0\n",
    "    err_X = prediction == 1\n",
    "    err_Y = prediction == 2\n",
    "    err_Z = prediction == 3\n",
    "    # Determine if a logical flip has occurred based on the basis\n",
    "    y_pred = (err_X & bz) | (err_Y) | (err_Z & ~bz)\n",
    "    # Compare predictions to true labels and estimate the ler\n",
    "    sucess_rate = jnp.mean(y_pred == y)\n",
    "    ler = 1.0 - sucess_rate\n",
    "    return ler\n",
    "\n",
    "estimate_ler(model_params, x_init[:batch_size], x[:batch_size], y[:batch_size], bz[:batch_size])"
   ]
  },
  {
   "cell_type": "markdown",
   "id": "a2df9d9d",
   "metadata": {},
   "source": [
    "# Setup the optimizer"
   ]
  },
  {
   "cell_type": "code",
   "execution_count": 106,
   "id": "f1d969b2",
   "metadata": {},
   "outputs": [],
   "source": [
    "num_batches = num_epochs * x.shape[0] // batch_size\n",
    "learning_rate = optax.warmup_cosine_decay_schedule(\n",
    "    init_value=0.0,\n",
    "    peak_value=1e-3,\n",
    "    warmup_steps=num_batches * 0.05,\n",
    "    decay_steps=num_batches,\n",
    "    end_value=1e-5\n",
    ")\n",
    "optimizer = optax.chain(\n",
    "    optax.clip_by_global_norm(1.0),\n",
    "    optax.adamw(learning_rate)\n",
    ")\n",
    "opt_state = optimizer.init(model_params)"
   ]
  },
  {
   "cell_type": "markdown",
   "id": "b87b27fb",
   "metadata": {},
   "source": [
    "# Training loop"
   ]
  },
  {
   "cell_type": "code",
   "execution_count": 107,
   "id": "04b530ea",
   "metadata": {},
   "outputs": [],
   "source": [
    "@jit\n",
    "def training_step(\n",
    "    opt_state, \n",
    "    model_params: dict, \n",
    "    x_init: jnp.ndarray, \n",
    "    x: jnp.ndarray, \n",
    "    y: jnp.ndarray, \n",
    "    bz: jnp.ndarray, \n",
    "    batch_idx: int\n",
    ") -> tuple[optax.OptState, dict, float]:\n",
    "    \"\"\"\n",
    "    Perform a single training step: compute loss and gradients, update model parameters.\n",
    "\n",
    "    Args:\n",
    "        opt_state: Current state of the optimizer.\n",
    "        model_params: Current model parameters.\n",
    "        x_init (jnp.ndarray (batch_size, n_sites)): Syndrome measurements at initial round.\n",
    "        x (jnp.ndarray (batch_size, n_rounds, n_sites)): Syndrome measurements for all rounds except the initial round.\n",
    "        y (jnp.ndarray (batch_size,)): Observable outcomes.\n",
    "        bz (jnp.ndarray (batch_size,)): Basis for logical state initialization and measurement (True for Z-basis, False for X-basis).\n",
    "        batch_idx (int): Index of the current batch.\n",
    "\n",
    "    Returns:\n",
    "        Tuple:\n",
    "            - new_opt_state: Updated optimizer state.\n",
    "            - new_model_params: Updated model parameters.\n",
    "            - loss: Computed loss for the batch.\n",
    "    \"\"\"\n",
    "    # Get batch data\n",
    "    start = batch_idx * batch_size\n",
    "    batch_x_init = lax.dynamic_slice(x_init, (start, 0), (batch_size, x_init.shape[1]))\n",
    "    batch_x = lax.dynamic_slice(x, (start, 0, 0), (batch_size, x.shape[1], x.shape[2]))\n",
    "    batch_y = lax.dynamic_slice(y, (start,), (batch_size,))\n",
    "    batch_bz = lax.dynamic_slice(bz, (start,), (batch_size,))\n",
    "    # Compute loss and gradients\n",
    "    loss, grads = value_and_grad(loss_fn)(model_params, batch_x_init, batch_x, batch_y, batch_bz)\n",
    "    # Update model parameters\n",
    "    updates, opt_state = optimizer.update(grads, opt_state, model_params)\n",
    "    model_params = optax.apply_updates(model_params, updates)\n",
    "    return opt_state, model_params, loss"
   ]
  },
  {
   "cell_type": "code",
   "execution_count": 108,
   "id": "c6f0933c",
   "metadata": {},
   "outputs": [
    {
     "name": "stderr",
     "output_type": "stream",
     "text": [
      "Epoch 1/100:   0%|                                                                                                                                                            | 0/31250 [00:00<?, ?it/s]"
     ]
    },
    {
     "name": "stderr",
     "output_type": "stream",
     "text": [
      "Epoch 1/100: 100%|███████████████████████████████████████████████████████████████████████████████████████████████████████████████████████████████████████████████| 31250/31250 [01:25<00:00, 365.06it/s]\n"
     ]
    },
    {
     "name": "stdout",
     "output_type": "stream",
     "text": [
      "Epoch 1/100 - Loss: 0.5873\n"
     ]
    },
    {
     "name": "stderr",
     "output_type": "stream",
     "text": [
      "Epoch 2/100: 100%|███████████████████████████████████████████████████████████████████████████████████████████████████████████████████████████████████████████████| 31250/31250 [01:20<00:00, 389.15it/s]\n"
     ]
    },
    {
     "name": "stdout",
     "output_type": "stream",
     "text": [
      "Epoch 2/100 - Loss: 0.5072\n"
     ]
    },
    {
     "name": "stderr",
     "output_type": "stream",
     "text": [
      "Epoch 3/100: 100%|███████████████████████████████████████████████████████████████████████████████████████████████████████████████████████████████████████████████| 31250/31250 [01:19<00:00, 392.96it/s]\n"
     ]
    },
    {
     "name": "stdout",
     "output_type": "stream",
     "text": [
      "Epoch 3/100 - Loss: 0.4781\n"
     ]
    },
    {
     "name": "stderr",
     "output_type": "stream",
     "text": [
      "Epoch 4/100: 100%|███████████████████████████████████████████████████████████████████████████████████████████████████████████████████████████████████████████████| 31250/31250 [01:19<00:00, 393.83it/s]\n"
     ]
    },
    {
     "name": "stdout",
     "output_type": "stream",
     "text": [
      "Epoch 4/100 - Loss: 0.4672\n"
     ]
    },
    {
     "name": "stderr",
     "output_type": "stream",
     "text": [
      "Epoch 5/100: 100%|███████████████████████████████████████████████████████████████████████████████████████████████████████████████████████████████████████████████| 31250/31250 [01:20<00:00, 388.03it/s]\n"
     ]
    },
    {
     "name": "stdout",
     "output_type": "stream",
     "text": [
      "Epoch 5/100 - Loss: 0.4611\n"
     ]
    },
    {
     "name": "stderr",
     "output_type": "stream",
     "text": [
      "Epoch 6/100: 100%|███████████████████████████████████████████████████████████████████████████████████████████████████████████████████████████████████████████████| 31250/31250 [01:20<00:00, 389.97it/s]\n"
     ]
    },
    {
     "name": "stdout",
     "output_type": "stream",
     "text": [
      "Epoch 6/100 - Loss: 0.4573\n"
     ]
    },
    {
     "name": "stderr",
     "output_type": "stream",
     "text": [
      "Epoch 7/100: 100%|███████████████████████████████████████████████████████████████████████████████████████████████████████████████████████████████████████████████| 31250/31250 [01:18<00:00, 395.76it/s]\n"
     ]
    },
    {
     "name": "stdout",
     "output_type": "stream",
     "text": [
      "Epoch 7/100 - Loss: 0.4525\n"
     ]
    },
    {
     "name": "stderr",
     "output_type": "stream",
     "text": [
      "Epoch 8/100: 100%|███████████████████████████████████████████████████████████████████████████████████████████████████████████████████████████████████████████████| 31250/31250 [01:19<00:00, 394.90it/s]\n"
     ]
    },
    {
     "name": "stdout",
     "output_type": "stream",
     "text": [
      "Epoch 8/100 - Loss: 0.4501\n"
     ]
    },
    {
     "name": "stderr",
     "output_type": "stream",
     "text": [
      "Epoch 9/100: 100%|███████████████████████████████████████████████████████████████████████████████████████████████████████████████████████████████████████████████| 31250/31250 [01:19<00:00, 392.04it/s]\n"
     ]
    },
    {
     "name": "stdout",
     "output_type": "stream",
     "text": [
      "Epoch 9/100 - Loss: 0.4485\n"
     ]
    },
    {
     "name": "stderr",
     "output_type": "stream",
     "text": [
      "Epoch 10/100: 100%|██████████████████████████████████████████████████████████████████████████████████████████████████████████████████████████████████████████████| 31250/31250 [01:19<00:00, 391.90it/s]\n"
     ]
    },
    {
     "name": "stdout",
     "output_type": "stream",
     "text": [
      "Epoch 10/100 - Loss: 0.4467\n"
     ]
    },
    {
     "name": "stderr",
     "output_type": "stream",
     "text": [
      "Epoch 11/100: 100%|██████████████████████████████████████████████████████████████████████████████████████████████████████████████████████████████████████████████| 31250/31250 [01:19<00:00, 394.02it/s]\n"
     ]
    },
    {
     "name": "stdout",
     "output_type": "stream",
     "text": [
      "Epoch 11/100 - Loss: 0.4461\n"
     ]
    },
    {
     "name": "stderr",
     "output_type": "stream",
     "text": [
      "Epoch 12/100: 100%|██████████████████████████████████████████████████████████████████████████████████████████████████████████████████████████████████████████████| 31250/31250 [01:19<00:00, 391.23it/s]\n"
     ]
    },
    {
     "name": "stdout",
     "output_type": "stream",
     "text": [
      "Epoch 12/100 - Loss: 0.4457\n"
     ]
    },
    {
     "name": "stderr",
     "output_type": "stream",
     "text": [
      "Epoch 13/100: 100%|██████████████████████████████████████████████████████████████████████████████████████████████████████████████████████████████████████████████| 31250/31250 [01:19<00:00, 394.87it/s]\n"
     ]
    },
    {
     "name": "stdout",
     "output_type": "stream",
     "text": [
      "Epoch 13/100 - Loss: 0.4448\n"
     ]
    },
    {
     "name": "stderr",
     "output_type": "stream",
     "text": [
      "Epoch 14/100: 100%|██████████████████████████████████████████████████████████████████████████████████████████████████████████████████████████████████████████████| 31250/31250 [01:19<00:00, 395.02it/s]\n"
     ]
    },
    {
     "name": "stdout",
     "output_type": "stream",
     "text": [
      "Epoch 14/100 - Loss: 0.4434\n"
     ]
    },
    {
     "name": "stderr",
     "output_type": "stream",
     "text": [
      "Epoch 15/100: 100%|██████████████████████████████████████████████████████████████████████████████████████████████████████████████████████████████████████████████| 31250/31250 [01:18<00:00, 397.31it/s]\n"
     ]
    },
    {
     "name": "stdout",
     "output_type": "stream",
     "text": [
      "Epoch 15/100 - Loss: 0.4429\n"
     ]
    },
    {
     "name": "stderr",
     "output_type": "stream",
     "text": [
      "Epoch 16/100: 100%|██████████████████████████████████████████████████████████████████████████████████████████████████████████████████████████████████████████████| 31250/31250 [01:19<00:00, 393.93it/s]\n"
     ]
    },
    {
     "name": "stdout",
     "output_type": "stream",
     "text": [
      "Epoch 16/100 - Loss: 0.4424\n"
     ]
    },
    {
     "name": "stderr",
     "output_type": "stream",
     "text": [
      "Epoch 17/100: 100%|██████████████████████████████████████████████████████████████████████████████████████████████████████████████████████████████████████████████| 31250/31250 [01:19<00:00, 392.30it/s]\n"
     ]
    },
    {
     "name": "stdout",
     "output_type": "stream",
     "text": [
      "Epoch 17/100 - Loss: 0.4418\n"
     ]
    },
    {
     "name": "stderr",
     "output_type": "stream",
     "text": [
      "Epoch 18/100: 100%|██████████████████████████████████████████████████████████████████████████████████████████████████████████████████████████████████████████████| 31250/31250 [01:18<00:00, 396.87it/s]\n"
     ]
    },
    {
     "name": "stdout",
     "output_type": "stream",
     "text": [
      "Epoch 18/100 - Loss: 0.4413\n"
     ]
    },
    {
     "name": "stderr",
     "output_type": "stream",
     "text": [
      "Epoch 19/100: 100%|██████████████████████████████████████████████████████████████████████████████████████████████████████████████████████████████████████████████| 31250/31250 [01:18<00:00, 400.56it/s]\n"
     ]
    },
    {
     "name": "stdout",
     "output_type": "stream",
     "text": [
      "Epoch 19/100 - Loss: 0.4411\n"
     ]
    },
    {
     "name": "stderr",
     "output_type": "stream",
     "text": [
      "Epoch 20/100: 100%|██████████████████████████████████████████████████████████████████████████████████████████████████████████████████████████████████████████████| 31250/31250 [01:17<00:00, 401.65it/s]\n"
     ]
    },
    {
     "name": "stdout",
     "output_type": "stream",
     "text": [
      "Epoch 20/100 - Loss: 0.4405\n"
     ]
    },
    {
     "name": "stderr",
     "output_type": "stream",
     "text": [
      "Epoch 21/100: 100%|██████████████████████████████████████████████████████████████████████████████████████████████████████████████████████████████████████████████| 31250/31250 [01:18<00:00, 397.13it/s]\n"
     ]
    },
    {
     "name": "stdout",
     "output_type": "stream",
     "text": [
      "Epoch 21/100 - Loss: 0.4402\n"
     ]
    },
    {
     "name": "stderr",
     "output_type": "stream",
     "text": [
      "Epoch 22/100: 100%|██████████████████████████████████████████████████████████████████████████████████████████████████████████████████████████████████████████████| 31250/31250 [01:18<00:00, 399.10it/s]\n"
     ]
    },
    {
     "name": "stdout",
     "output_type": "stream",
     "text": [
      "Epoch 22/100 - Loss: 0.4398\n"
     ]
    },
    {
     "name": "stderr",
     "output_type": "stream",
     "text": [
      "Epoch 23/100: 100%|██████████████████████████████████████████████████████████████████████████████████████████████████████████████████████████████████████████████| 31250/31250 [01:18<00:00, 396.95it/s]\n"
     ]
    },
    {
     "name": "stdout",
     "output_type": "stream",
     "text": [
      "Epoch 23/100 - Loss: 0.4395\n"
     ]
    },
    {
     "name": "stderr",
     "output_type": "stream",
     "text": [
      "Epoch 24/100: 100%|██████████████████████████████████████████████████████████████████████████████████████████████████████████████████████████████████████████████| 31250/31250 [01:17<00:00, 403.39it/s]\n"
     ]
    },
    {
     "name": "stdout",
     "output_type": "stream",
     "text": [
      "Epoch 24/100 - Loss: 0.4394\n"
     ]
    },
    {
     "name": "stderr",
     "output_type": "stream",
     "text": [
      "Epoch 25/100: 100%|██████████████████████████████████████████████████████████████████████████████████████████████████████████████████████████████████████████████| 31250/31250 [01:18<00:00, 396.44it/s]\n"
     ]
    },
    {
     "name": "stdout",
     "output_type": "stream",
     "text": [
      "Epoch 25/100 - Loss: 0.4390\n"
     ]
    },
    {
     "name": "stderr",
     "output_type": "stream",
     "text": [
      "Epoch 26/100: 100%|██████████████████████████████████████████████████████████████████████████████████████████████████████████████████████████████████████████████| 31250/31250 [01:18<00:00, 400.07it/s]\n"
     ]
    },
    {
     "name": "stdout",
     "output_type": "stream",
     "text": [
      "Epoch 26/100 - Loss: 0.4386\n"
     ]
    },
    {
     "name": "stderr",
     "output_type": "stream",
     "text": [
      "Epoch 27/100: 100%|██████████████████████████████████████████████████████████████████████████████████████████████████████████████████████████████████████████████| 31250/31250 [01:18<00:00, 399.55it/s]\n"
     ]
    },
    {
     "name": "stdout",
     "output_type": "stream",
     "text": [
      "Epoch 27/100 - Loss: 0.4383\n"
     ]
    },
    {
     "name": "stderr",
     "output_type": "stream",
     "text": [
      "Epoch 28/100: 100%|██████████████████████████████████████████████████████████████████████████████████████████████████████████████████████████████████████████████| 31250/31250 [01:18<00:00, 395.81it/s]\n"
     ]
    },
    {
     "name": "stdout",
     "output_type": "stream",
     "text": [
      "Epoch 28/100 - Loss: 0.4381\n"
     ]
    },
    {
     "name": "stderr",
     "output_type": "stream",
     "text": [
      "Epoch 29/100: 100%|██████████████████████████████████████████████████████████████████████████████████████████████████████████████████████████████████████████████| 31250/31250 [01:19<00:00, 390.92it/s]\n"
     ]
    },
    {
     "name": "stdout",
     "output_type": "stream",
     "text": [
      "Epoch 29/100 - Loss: 0.4378\n"
     ]
    },
    {
     "name": "stderr",
     "output_type": "stream",
     "text": [
      "Epoch 30/100: 100%|██████████████████████████████████████████████████████████████████████████████████████████████████████████████████████████████████████████████| 31250/31250 [01:18<00:00, 397.30it/s]\n"
     ]
    },
    {
     "name": "stdout",
     "output_type": "stream",
     "text": [
      "Epoch 30/100 - Loss: 0.4376\n"
     ]
    },
    {
     "name": "stderr",
     "output_type": "stream",
     "text": [
      "Epoch 31/100: 100%|██████████████████████████████████████████████████████████████████████████████████████████████████████████████████████████████████████████████| 31250/31250 [01:20<00:00, 388.99it/s]\n"
     ]
    },
    {
     "name": "stdout",
     "output_type": "stream",
     "text": [
      "Epoch 31/100 - Loss: 0.4372\n"
     ]
    },
    {
     "name": "stderr",
     "output_type": "stream",
     "text": [
      "Epoch 32/100: 100%|██████████████████████████████████████████████████████████████████████████████████████████████████████████████████████████████████████████████| 31250/31250 [01:19<00:00, 391.88it/s]\n"
     ]
    },
    {
     "name": "stdout",
     "output_type": "stream",
     "text": [
      "Epoch 32/100 - Loss: 0.4371\n"
     ]
    },
    {
     "name": "stderr",
     "output_type": "stream",
     "text": [
      "Epoch 33/100: 100%|██████████████████████████████████████████████████████████████████████████████████████████████████████████████████████████████████████████████| 31250/31250 [01:19<00:00, 394.65it/s]\n"
     ]
    },
    {
     "name": "stdout",
     "output_type": "stream",
     "text": [
      "Epoch 33/100 - Loss: 0.4367\n"
     ]
    },
    {
     "name": "stderr",
     "output_type": "stream",
     "text": [
      "Epoch 34/100: 100%|██████████████████████████████████████████████████████████████████████████████████████████████████████████████████████████████████████████████| 31250/31250 [01:19<00:00, 395.31it/s]\n"
     ]
    },
    {
     "name": "stdout",
     "output_type": "stream",
     "text": [
      "Epoch 34/100 - Loss: 0.4365\n"
     ]
    },
    {
     "name": "stderr",
     "output_type": "stream",
     "text": [
      "Epoch 35/100: 100%|██████████████████████████████████████████████████████████████████████████████████████████████████████████████████████████████████████████████| 31250/31250 [01:20<00:00, 388.32it/s]\n"
     ]
    },
    {
     "name": "stdout",
     "output_type": "stream",
     "text": [
      "Epoch 35/100 - Loss: 0.4364\n"
     ]
    },
    {
     "name": "stderr",
     "output_type": "stream",
     "text": [
      "Epoch 36/100: 100%|██████████████████████████████████████████████████████████████████████████████████████████████████████████████████████████████████████████████| 31250/31250 [01:18<00:00, 397.31it/s]\n"
     ]
    },
    {
     "name": "stdout",
     "output_type": "stream",
     "text": [
      "Epoch 36/100 - Loss: 0.4359\n"
     ]
    },
    {
     "name": "stderr",
     "output_type": "stream",
     "text": [
      "Epoch 37/100: 100%|██████████████████████████████████████████████████████████████████████████████████████████████████████████████████████████████████████████████| 31250/31250 [01:18<00:00, 397.02it/s]\n"
     ]
    },
    {
     "name": "stdout",
     "output_type": "stream",
     "text": [
      "Epoch 37/100 - Loss: 0.4358\n"
     ]
    },
    {
     "name": "stderr",
     "output_type": "stream",
     "text": [
      "Epoch 38/100: 100%|██████████████████████████████████████████████████████████████████████████████████████████████████████████████████████████████████████████████| 31250/31250 [01:18<00:00, 397.82it/s]\n"
     ]
    },
    {
     "name": "stdout",
     "output_type": "stream",
     "text": [
      "Epoch 38/100 - Loss: 0.4355\n"
     ]
    },
    {
     "name": "stderr",
     "output_type": "stream",
     "text": [
      "Epoch 39/100: 100%|██████████████████████████████████████████████████████████████████████████████████████████████████████████████████████████████████████████████| 31250/31250 [01:19<00:00, 394.64it/s]\n"
     ]
    },
    {
     "name": "stdout",
     "output_type": "stream",
     "text": [
      "Epoch 39/100 - Loss: 0.4353\n"
     ]
    },
    {
     "name": "stderr",
     "output_type": "stream",
     "text": [
      "Epoch 40/100: 100%|██████████████████████████████████████████████████████████████████████████████████████████████████████████████████████████████████████████████| 31250/31250 [01:18<00:00, 397.01it/s]\n"
     ]
    },
    {
     "name": "stdout",
     "output_type": "stream",
     "text": [
      "Epoch 40/100 - Loss: 0.4352\n"
     ]
    },
    {
     "name": "stderr",
     "output_type": "stream",
     "text": [
      "Epoch 41/100: 100%|██████████████████████████████████████████████████████████████████████████████████████████████████████████████████████████████████████████████| 31250/31250 [01:19<00:00, 394.37it/s]\n"
     ]
    },
    {
     "name": "stdout",
     "output_type": "stream",
     "text": [
      "Epoch 41/100 - Loss: 0.4347\n"
     ]
    },
    {
     "name": "stderr",
     "output_type": "stream",
     "text": [
      "Epoch 42/100: 100%|██████████████████████████████████████████████████████████████████████████████████████████████████████████████████████████████████████████████| 31250/31250 [01:18<00:00, 397.46it/s]\n"
     ]
    },
    {
     "name": "stdout",
     "output_type": "stream",
     "text": [
      "Epoch 42/100 - Loss: 0.4345\n"
     ]
    },
    {
     "name": "stderr",
     "output_type": "stream",
     "text": [
      "Epoch 43/100: 100%|██████████████████████████████████████████████████████████████████████████████████████████████████████████████████████████████████████████████| 31250/31250 [01:18<00:00, 397.39it/s]\n"
     ]
    },
    {
     "name": "stdout",
     "output_type": "stream",
     "text": [
      "Epoch 43/100 - Loss: 0.4342\n"
     ]
    },
    {
     "name": "stderr",
     "output_type": "stream",
     "text": [
      "Epoch 44/100: 100%|██████████████████████████████████████████████████████████████████████████████████████████████████████████████████████████████████████████████| 31250/31250 [01:17<00:00, 403.99it/s]\n"
     ]
    },
    {
     "name": "stdout",
     "output_type": "stream",
     "text": [
      "Epoch 44/100 - Loss: 0.4339\n"
     ]
    },
    {
     "name": "stderr",
     "output_type": "stream",
     "text": [
      "Epoch 45/100: 100%|██████████████████████████████████████████████████████████████████████████████████████████████████████████████████████████████████████████████| 31250/31250 [01:18<00:00, 397.35it/s]\n"
     ]
    },
    {
     "name": "stdout",
     "output_type": "stream",
     "text": [
      "Epoch 45/100 - Loss: 0.4336\n"
     ]
    },
    {
     "name": "stderr",
     "output_type": "stream",
     "text": [
      "Epoch 46/100: 100%|██████████████████████████████████████████████████████████████████████████████████████████████████████████████████████████████████████████████| 31250/31250 [01:17<00:00, 401.21it/s]\n"
     ]
    },
    {
     "name": "stdout",
     "output_type": "stream",
     "text": [
      "Epoch 46/100 - Loss: 0.4334\n"
     ]
    },
    {
     "name": "stderr",
     "output_type": "stream",
     "text": [
      "Epoch 47/100: 100%|██████████████████████████████████████████████████████████████████████████████████████████████████████████████████████████████████████████████| 31250/31250 [01:18<00:00, 398.02it/s]\n"
     ]
    },
    {
     "name": "stdout",
     "output_type": "stream",
     "text": [
      "Epoch 47/100 - Loss: 0.4330\n"
     ]
    },
    {
     "name": "stderr",
     "output_type": "stream",
     "text": [
      "Epoch 48/100: 100%|██████████████████████████████████████████████████████████████████████████████████████████████████████████████████████████████████████████████| 31250/31250 [01:18<00:00, 398.96it/s]\n"
     ]
    },
    {
     "name": "stdout",
     "output_type": "stream",
     "text": [
      "Epoch 48/100 - Loss: 0.4328\n"
     ]
    },
    {
     "name": "stderr",
     "output_type": "stream",
     "text": [
      "Epoch 49/100: 100%|██████████████████████████████████████████████████████████████████████████████████████████████████████████████████████████████████████████████| 31250/31250 [01:18<00:00, 397.56it/s]\n"
     ]
    },
    {
     "name": "stdout",
     "output_type": "stream",
     "text": [
      "Epoch 49/100 - Loss: 0.4325\n"
     ]
    },
    {
     "name": "stderr",
     "output_type": "stream",
     "text": [
      "Epoch 50/100: 100%|██████████████████████████████████████████████████████████████████████████████████████████████████████████████████████████████████████████████| 31250/31250 [01:18<00:00, 396.08it/s]\n"
     ]
    },
    {
     "name": "stdout",
     "output_type": "stream",
     "text": [
      "Epoch 50/100 - Loss: 0.4322\n"
     ]
    },
    {
     "name": "stderr",
     "output_type": "stream",
     "text": [
      "Epoch 51/100: 100%|██████████████████████████████████████████████████████████████████████████████████████████████████████████████████████████████████████████████| 31250/31250 [01:18<00:00, 400.21it/s]\n"
     ]
    },
    {
     "name": "stdout",
     "output_type": "stream",
     "text": [
      "Epoch 51/100 - Loss: 0.4321\n"
     ]
    },
    {
     "name": "stderr",
     "output_type": "stream",
     "text": [
      "Epoch 52/100: 100%|██████████████████████████████████████████████████████████████████████████████████████████████████████████████████████████████████████████████| 31250/31250 [01:18<00:00, 397.18it/s]\n"
     ]
    },
    {
     "name": "stdout",
     "output_type": "stream",
     "text": [
      "Epoch 52/100 - Loss: 0.4316\n"
     ]
    },
    {
     "name": "stderr",
     "output_type": "stream",
     "text": [
      "Epoch 53/100: 100%|██████████████████████████████████████████████████████████████████████████████████████████████████████████████████████████████████████████████| 31250/31250 [01:18<00:00, 398.69it/s]\n"
     ]
    },
    {
     "name": "stdout",
     "output_type": "stream",
     "text": [
      "Epoch 53/100 - Loss: 0.4313\n"
     ]
    },
    {
     "name": "stderr",
     "output_type": "stream",
     "text": [
      "Epoch 54/100: 100%|██████████████████████████████████████████████████████████████████████████████████████████████████████████████████████████████████████████████| 31250/31250 [01:19<00:00, 395.36it/s]\n"
     ]
    },
    {
     "name": "stdout",
     "output_type": "stream",
     "text": [
      "Epoch 54/100 - Loss: 0.4309\n"
     ]
    },
    {
     "name": "stderr",
     "output_type": "stream",
     "text": [
      "Epoch 55/100: 100%|██████████████████████████████████████████████████████████████████████████████████████████████████████████████████████████████████████████████| 31250/31250 [01:18<00:00, 398.87it/s]\n"
     ]
    },
    {
     "name": "stdout",
     "output_type": "stream",
     "text": [
      "Epoch 55/100 - Loss: 0.4306\n"
     ]
    },
    {
     "name": "stderr",
     "output_type": "stream",
     "text": [
      "Epoch 56/100: 100%|██████████████████████████████████████████████████████████████████████████████████████████████████████████████████████████████████████████████| 31250/31250 [01:19<00:00, 394.71it/s]\n"
     ]
    },
    {
     "name": "stdout",
     "output_type": "stream",
     "text": [
      "Epoch 56/100 - Loss: 0.4303\n"
     ]
    },
    {
     "name": "stderr",
     "output_type": "stream",
     "text": [
      "Epoch 57/100: 100%|██████████████████████████████████████████████████████████████████████████████████████████████████████████████████████████████████████████████| 31250/31250 [01:18<00:00, 398.72it/s]\n"
     ]
    },
    {
     "name": "stdout",
     "output_type": "stream",
     "text": [
      "Epoch 57/100 - Loss: 0.4298\n"
     ]
    },
    {
     "name": "stderr",
     "output_type": "stream",
     "text": [
      "Epoch 58/100: 100%|██████████████████████████████████████████████████████████████████████████████████████████████████████████████████████████████████████████████| 31250/31250 [01:18<00:00, 396.26it/s]\n"
     ]
    },
    {
     "name": "stdout",
     "output_type": "stream",
     "text": [
      "Epoch 58/100 - Loss: 0.4295\n"
     ]
    },
    {
     "name": "stderr",
     "output_type": "stream",
     "text": [
      "Epoch 59/100: 100%|██████████████████████████████████████████████████████████████████████████████████████████████████████████████████████████████████████████████| 31250/31250 [01:17<00:00, 403.73it/s]\n"
     ]
    },
    {
     "name": "stdout",
     "output_type": "stream",
     "text": [
      "Epoch 59/100 - Loss: 0.4291\n"
     ]
    },
    {
     "name": "stderr",
     "output_type": "stream",
     "text": [
      "Epoch 60/100: 100%|██████████████████████████████████████████████████████████████████████████████████████████████████████████████████████████████████████████████| 31250/31250 [01:18<00:00, 400.13it/s]\n"
     ]
    },
    {
     "name": "stdout",
     "output_type": "stream",
     "text": [
      "Epoch 60/100 - Loss: 0.4288\n"
     ]
    },
    {
     "name": "stderr",
     "output_type": "stream",
     "text": [
      "Epoch 61/100: 100%|██████████████████████████████████████████████████████████████████████████████████████████████████████████████████████████████████████████████| 31250/31250 [01:17<00:00, 401.51it/s]\n"
     ]
    },
    {
     "name": "stdout",
     "output_type": "stream",
     "text": [
      "Epoch 61/100 - Loss: 0.4284\n"
     ]
    },
    {
     "name": "stderr",
     "output_type": "stream",
     "text": [
      "Epoch 62/100: 100%|██████████████████████████████████████████████████████████████████████████████████████████████████████████████████████████████████████████████| 31250/31250 [01:18<00:00, 398.65it/s]\n"
     ]
    },
    {
     "name": "stdout",
     "output_type": "stream",
     "text": [
      "Epoch 62/100 - Loss: 0.4281\n"
     ]
    },
    {
     "name": "stderr",
     "output_type": "stream",
     "text": [
      "Epoch 63/100: 100%|██████████████████████████████████████████████████████████████████████████████████████████████████████████████████████████████████████████████| 31250/31250 [01:17<00:00, 404.05it/s]\n"
     ]
    },
    {
     "name": "stdout",
     "output_type": "stream",
     "text": [
      "Epoch 63/100 - Loss: 0.4276\n"
     ]
    },
    {
     "name": "stderr",
     "output_type": "stream",
     "text": [
      "Epoch 64/100: 100%|██████████████████████████████████████████████████████████████████████████████████████████████████████████████████████████████████████████████| 31250/31250 [01:18<00:00, 400.45it/s]\n"
     ]
    },
    {
     "name": "stdout",
     "output_type": "stream",
     "text": [
      "Epoch 64/100 - Loss: 0.4273\n"
     ]
    },
    {
     "name": "stderr",
     "output_type": "stream",
     "text": [
      "Epoch 65/100: 100%|██████████████████████████████████████████████████████████████████████████████████████████████████████████████████████████████████████████████| 31250/31250 [01:18<00:00, 399.25it/s]\n"
     ]
    },
    {
     "name": "stdout",
     "output_type": "stream",
     "text": [
      "Epoch 65/100 - Loss: 0.4269\n"
     ]
    },
    {
     "name": "stderr",
     "output_type": "stream",
     "text": [
      "Epoch 66/100: 100%|██████████████████████████████████████████████████████████████████████████████████████████████████████████████████████████████████████████████| 31250/31250 [01:19<00:00, 392.86it/s]\n"
     ]
    },
    {
     "name": "stdout",
     "output_type": "stream",
     "text": [
      "Epoch 66/100 - Loss: 0.4265\n"
     ]
    },
    {
     "name": "stderr",
     "output_type": "stream",
     "text": [
      "Epoch 67/100: 100%|██████████████████████████████████████████████████████████████████████████████████████████████████████████████████████████████████████████████| 31250/31250 [01:17<00:00, 401.79it/s]\n"
     ]
    },
    {
     "name": "stdout",
     "output_type": "stream",
     "text": [
      "Epoch 67/100 - Loss: 0.4261\n"
     ]
    },
    {
     "name": "stderr",
     "output_type": "stream",
     "text": [
      "Epoch 68/100: 100%|██████████████████████████████████████████████████████████████████████████████████████████████████████████████████████████████████████████████| 31250/31250 [01:18<00:00, 399.04it/s]\n"
     ]
    },
    {
     "name": "stdout",
     "output_type": "stream",
     "text": [
      "Epoch 68/100 - Loss: 0.4256\n"
     ]
    },
    {
     "name": "stderr",
     "output_type": "stream",
     "text": [
      "Epoch 69/100: 100%|██████████████████████████████████████████████████████████████████████████████████████████████████████████████████████████████████████████████| 31250/31250 [01:17<00:00, 403.37it/s]\n"
     ]
    },
    {
     "name": "stdout",
     "output_type": "stream",
     "text": [
      "Epoch 69/100 - Loss: 0.4252\n"
     ]
    },
    {
     "name": "stderr",
     "output_type": "stream",
     "text": [
      "Epoch 70/100: 100%|██████████████████████████████████████████████████████████████████████████████████████████████████████████████████████████████████████████████| 31250/31250 [01:17<00:00, 401.47it/s]\n"
     ]
    },
    {
     "name": "stdout",
     "output_type": "stream",
     "text": [
      "Epoch 70/100 - Loss: 0.4248\n"
     ]
    },
    {
     "name": "stderr",
     "output_type": "stream",
     "text": [
      "Epoch 71/100: 100%|██████████████████████████████████████████████████████████████████████████████████████████████████████████████████████████████████████████████| 31250/31250 [01:18<00:00, 399.88it/s]\n"
     ]
    },
    {
     "name": "stdout",
     "output_type": "stream",
     "text": [
      "Epoch 71/100 - Loss: 0.4244\n"
     ]
    },
    {
     "name": "stderr",
     "output_type": "stream",
     "text": [
      "Epoch 72/100: 100%|██████████████████████████████████████████████████████████████████████████████████████████████████████████████████████████████████████████████| 31250/31250 [01:17<00:00, 403.92it/s]\n"
     ]
    },
    {
     "name": "stdout",
     "output_type": "stream",
     "text": [
      "Epoch 72/100 - Loss: 0.4240\n"
     ]
    },
    {
     "name": "stderr",
     "output_type": "stream",
     "text": [
      "Epoch 73/100: 100%|██████████████████████████████████████████████████████████████████████████████████████████████████████████████████████████████████████████████| 31250/31250 [01:18<00:00, 396.74it/s]\n"
     ]
    },
    {
     "name": "stdout",
     "output_type": "stream",
     "text": [
      "Epoch 73/100 - Loss: 0.4236\n"
     ]
    },
    {
     "name": "stderr",
     "output_type": "stream",
     "text": [
      "Epoch 74/100: 100%|██████████████████████████████████████████████████████████████████████████████████████████████████████████████████████████████████████████████| 31250/31250 [01:18<00:00, 399.05it/s]\n"
     ]
    },
    {
     "name": "stdout",
     "output_type": "stream",
     "text": [
      "Epoch 74/100 - Loss: 0.4232\n"
     ]
    },
    {
     "name": "stderr",
     "output_type": "stream",
     "text": [
      "Epoch 75/100: 100%|██████████████████████████████████████████████████████████████████████████████████████████████████████████████████████████████████████████████| 31250/31250 [01:18<00:00, 396.85it/s]\n"
     ]
    },
    {
     "name": "stdout",
     "output_type": "stream",
     "text": [
      "Epoch 75/100 - Loss: 0.4227\n"
     ]
    },
    {
     "name": "stderr",
     "output_type": "stream",
     "text": [
      "Epoch 76/100: 100%|██████████████████████████████████████████████████████████████████████████████████████████████████████████████████████████████████████████████| 31250/31250 [01:17<00:00, 403.43it/s]\n"
     ]
    },
    {
     "name": "stdout",
     "output_type": "stream",
     "text": [
      "Epoch 76/100 - Loss: 0.4223\n"
     ]
    },
    {
     "name": "stderr",
     "output_type": "stream",
     "text": [
      "Epoch 77/100: 100%|██████████████████████████████████████████████████████████████████████████████████████████████████████████████████████████████████████████████| 31250/31250 [01:18<00:00, 396.57it/s]\n"
     ]
    },
    {
     "name": "stdout",
     "output_type": "stream",
     "text": [
      "Epoch 77/100 - Loss: 0.4220\n"
     ]
    },
    {
     "name": "stderr",
     "output_type": "stream",
     "text": [
      "Epoch 78/100: 100%|██████████████████████████████████████████████████████████████████████████████████████████████████████████████████████████████████████████████| 31250/31250 [01:18<00:00, 396.23it/s]\n"
     ]
    },
    {
     "name": "stdout",
     "output_type": "stream",
     "text": [
      "Epoch 78/100 - Loss: 0.4216\n"
     ]
    },
    {
     "name": "stderr",
     "output_type": "stream",
     "text": [
      "Epoch 79/100: 100%|██████████████████████████████████████████████████████████████████████████████████████████████████████████████████████████████████████████████| 31250/31250 [01:18<00:00, 399.28it/s]\n"
     ]
    },
    {
     "name": "stdout",
     "output_type": "stream",
     "text": [
      "Epoch 79/100 - Loss: 0.4212\n"
     ]
    },
    {
     "name": "stderr",
     "output_type": "stream",
     "text": [
      "Epoch 80/100: 100%|██████████████████████████████████████████████████████████████████████████████████████████████████████████████████████████████████████████████| 31250/31250 [01:17<00:00, 405.62it/s]\n"
     ]
    },
    {
     "name": "stdout",
     "output_type": "stream",
     "text": [
      "Epoch 80/100 - Loss: 0.4208\n"
     ]
    },
    {
     "name": "stderr",
     "output_type": "stream",
     "text": [
      "Epoch 81/100: 100%|██████████████████████████████████████████████████████████████████████████████████████████████████████████████████████████████████████████████| 31250/31250 [01:18<00:00, 398.07it/s]\n"
     ]
    },
    {
     "name": "stdout",
     "output_type": "stream",
     "text": [
      "Epoch 81/100 - Loss: 0.4205\n"
     ]
    },
    {
     "name": "stderr",
     "output_type": "stream",
     "text": [
      "Epoch 82/100: 100%|██████████████████████████████████████████████████████████████████████████████████████████████████████████████████████████████████████████████| 31250/31250 [01:17<00:00, 402.79it/s]\n"
     ]
    },
    {
     "name": "stdout",
     "output_type": "stream",
     "text": [
      "Epoch 82/100 - Loss: 0.4201\n"
     ]
    },
    {
     "name": "stderr",
     "output_type": "stream",
     "text": [
      "Epoch 83/100: 100%|██████████████████████████████████████████████████████████████████████████████████████████████████████████████████████████████████████████████| 31250/31250 [01:17<00:00, 401.46it/s]\n"
     ]
    },
    {
     "name": "stdout",
     "output_type": "stream",
     "text": [
      "Epoch 83/100 - Loss: 0.4197\n"
     ]
    },
    {
     "name": "stderr",
     "output_type": "stream",
     "text": [
      "Epoch 84/100: 100%|██████████████████████████████████████████████████████████████████████████████████████████████████████████████████████████████████████████████| 31250/31250 [01:17<00:00, 403.05it/s]\n"
     ]
    },
    {
     "name": "stdout",
     "output_type": "stream",
     "text": [
      "Epoch 84/100 - Loss: 0.4194\n"
     ]
    },
    {
     "name": "stderr",
     "output_type": "stream",
     "text": [
      "Epoch 85/100: 100%|██████████████████████████████████████████████████████████████████████████████████████████████████████████████████████████████████████████████| 31250/31250 [01:18<00:00, 400.54it/s]\n"
     ]
    },
    {
     "name": "stdout",
     "output_type": "stream",
     "text": [
      "Epoch 85/100 - Loss: 0.4191\n"
     ]
    },
    {
     "name": "stderr",
     "output_type": "stream",
     "text": [
      "Epoch 86/100: 100%|██████████████████████████████████████████████████████████████████████████████████████████████████████████████████████████████████████████████| 31250/31250 [01:18<00:00, 396.94it/s]\n"
     ]
    },
    {
     "name": "stdout",
     "output_type": "stream",
     "text": [
      "Epoch 86/100 - Loss: 0.4188\n"
     ]
    },
    {
     "name": "stderr",
     "output_type": "stream",
     "text": [
      "Epoch 87/100: 100%|██████████████████████████████████████████████████████████████████████████████████████████████████████████████████████████████████████████████| 31250/31250 [01:17<00:00, 401.70it/s]\n"
     ]
    },
    {
     "name": "stdout",
     "output_type": "stream",
     "text": [
      "Epoch 87/100 - Loss: 0.4185\n"
     ]
    },
    {
     "name": "stderr",
     "output_type": "stream",
     "text": [
      "Epoch 88/100: 100%|██████████████████████████████████████████████████████████████████████████████████████████████████████████████████████████████████████████████| 31250/31250 [01:18<00:00, 398.66it/s]\n"
     ]
    },
    {
     "name": "stdout",
     "output_type": "stream",
     "text": [
      "Epoch 88/100 - Loss: 0.4182\n"
     ]
    },
    {
     "name": "stderr",
     "output_type": "stream",
     "text": [
      "Epoch 89/100: 100%|██████████████████████████████████████████████████████████████████████████████████████████████████████████████████████████████████████████████| 31250/31250 [01:17<00:00, 401.60it/s]\n"
     ]
    },
    {
     "name": "stdout",
     "output_type": "stream",
     "text": [
      "Epoch 89/100 - Loss: 0.4179\n"
     ]
    },
    {
     "name": "stderr",
     "output_type": "stream",
     "text": [
      "Epoch 90/100: 100%|██████████████████████████████████████████████████████████████████████████████████████████████████████████████████████████████████████████████| 31250/31250 [01:17<00:00, 402.04it/s]\n"
     ]
    },
    {
     "name": "stdout",
     "output_type": "stream",
     "text": [
      "Epoch 90/100 - Loss: 0.4177\n"
     ]
    },
    {
     "name": "stderr",
     "output_type": "stream",
     "text": [
      "Epoch 91/100: 100%|██████████████████████████████████████████████████████████████████████████████████████████████████████████████████████████████████████████████| 31250/31250 [01:17<00:00, 403.75it/s]\n"
     ]
    },
    {
     "name": "stdout",
     "output_type": "stream",
     "text": [
      "Epoch 91/100 - Loss: 0.4174\n"
     ]
    },
    {
     "name": "stderr",
     "output_type": "stream",
     "text": [
      "Epoch 92/100: 100%|██████████████████████████████████████████████████████████████████████████████████████████████████████████████████████████████████████████████| 31250/31250 [01:18<00:00, 396.21it/s]\n"
     ]
    },
    {
     "name": "stdout",
     "output_type": "stream",
     "text": [
      "Epoch 92/100 - Loss: 0.4172\n"
     ]
    },
    {
     "name": "stderr",
     "output_type": "stream",
     "text": [
      "Epoch 93/100: 100%|██████████████████████████████████████████████████████████████████████████████████████████████████████████████████████████████████████████████| 31250/31250 [01:17<00:00, 401.09it/s]\n"
     ]
    },
    {
     "name": "stdout",
     "output_type": "stream",
     "text": [
      "Epoch 93/100 - Loss: 0.4170\n"
     ]
    },
    {
     "name": "stderr",
     "output_type": "stream",
     "text": [
      "Epoch 94/100: 100%|██████████████████████████████████████████████████████████████████████████████████████████████████████████████████████████████████████████████| 31250/31250 [01:18<00:00, 400.21it/s]\n"
     ]
    },
    {
     "name": "stdout",
     "output_type": "stream",
     "text": [
      "Epoch 94/100 - Loss: 0.4169\n"
     ]
    },
    {
     "name": "stderr",
     "output_type": "stream",
     "text": [
      "Epoch 95/100: 100%|██████████████████████████████████████████████████████████████████████████████████████████████████████████████████████████████████████████████| 31250/31250 [01:18<00:00, 400.02it/s]\n"
     ]
    },
    {
     "name": "stdout",
     "output_type": "stream",
     "text": [
      "Epoch 95/100 - Loss: 0.4167\n"
     ]
    },
    {
     "name": "stderr",
     "output_type": "stream",
     "text": [
      "Epoch 96/100: 100%|██████████████████████████████████████████████████████████████████████████████████████████████████████████████████████████████████████████████| 31250/31250 [01:18<00:00, 397.23it/s]\n"
     ]
    },
    {
     "name": "stdout",
     "output_type": "stream",
     "text": [
      "Epoch 96/100 - Loss: 0.4166\n"
     ]
    },
    {
     "name": "stderr",
     "output_type": "stream",
     "text": [
      "Epoch 97/100: 100%|██████████████████████████████████████████████████████████████████████████████████████████████████████████████████████████████████████████████| 31250/31250 [01:17<00:00, 403.04it/s]\n"
     ]
    },
    {
     "name": "stdout",
     "output_type": "stream",
     "text": [
      "Epoch 97/100 - Loss: 0.4165\n"
     ]
    },
    {
     "name": "stderr",
     "output_type": "stream",
     "text": [
      "Epoch 98/100: 100%|██████████████████████████████████████████████████████████████████████████████████████████████████████████████████████████████████████████████| 31250/31250 [01:18<00:00, 400.39it/s]\n"
     ]
    },
    {
     "name": "stdout",
     "output_type": "stream",
     "text": [
      "Epoch 98/100 - Loss: 0.4164\n"
     ]
    },
    {
     "name": "stderr",
     "output_type": "stream",
     "text": [
      "Epoch 99/100: 100%|██████████████████████████████████████████████████████████████████████████████████████████████████████████████████████████████████████████████| 31250/31250 [01:18<00:00, 395.95it/s]\n"
     ]
    },
    {
     "name": "stdout",
     "output_type": "stream",
     "text": [
      "Epoch 99/100 - Loss: 0.4163\n"
     ]
    },
    {
     "name": "stderr",
     "output_type": "stream",
     "text": [
      "Epoch 100/100: 100%|█████████████████████████████████████████████████████████████████████████████████████████████████████████████████████████████████████████████| 31250/31250 [01:17<00:00, 405.52it/s]"
     ]
    },
    {
     "name": "stdout",
     "output_type": "stream",
     "text": [
      "Epoch 100/100 - Loss: 0.4163\n"
     ]
    },
    {
     "name": "stderr",
     "output_type": "stream",
     "text": [
      "\n"
     ]
    }
   ],
   "source": [
    "for epoch in range(num_epochs):\n",
    "    # Shuffle data at the start of each epoch\n",
    "    shuffle_key, [x_init, x, y, bz] = shuffle_data(shuffle_key, x_init, x, y, bz)\n",
    "\n",
    "    # Training loop\n",
    "    num_batches = x.shape[0] // batch_size\n",
    "    epoch_loss = 0.0\n",
    "    for batch_idx in tqdm(range(num_batches), desc=f\"Epoch {epoch+1}/{num_epochs}\", ncols=200):\n",
    "        opt_state, model_params, loss = training_step(\n",
    "            opt_state, model_params, x_init, x, y, bz, batch_idx\n",
    "        )\n",
    "        epoch_loss += loss\n",
    "    epoch_loss /= num_batches\n",
    "    print(f\"Epoch {epoch+1}/{num_epochs} - Loss: {epoch_loss:.4f}\")"
   ]
  },
  {
   "cell_type": "code",
   "execution_count": 109,
   "id": "a756d57d",
   "metadata": {},
   "outputs": [],
   "source": [
    "import json\n",
    "import jax\n",
    "\n",
    "with open(f\"transformer_model_params_100_epochs.json\", \"w\") as f:\n",
    "    json.dump(jax.tree.map(lambda x: x.tolist(), model_params), f, indent=4)"
   ]
  },
  {
   "cell_type": "code",
   "execution_count": 110,
   "id": "08709ff9",
   "metadata": {},
   "outputs": [
    {
     "data": {
      "text/plain": [
       "Array(43012, dtype=int32)"
      ]
     },
     "execution_count": 110,
     "metadata": {},
     "output_type": "execute_result"
    }
   ],
   "source": [
    "def params_count(params):\n",
    "    return sum(jnp.prod(jnp.array(p.shape)) for p in jax.tree_util.tree_leaves(params))\n",
    "\n",
    "params_count(model_params)"
   ]
  },
  {
   "cell_type": "code",
   "execution_count": 113,
   "id": "69d1f9bc",
   "metadata": {},
   "outputs": [],
   "source": [
    "from flax.serialization import to_bytes, from_bytes\n",
    "\n",
    "with open(f\"transformer_model_params_100_epochs.msgpack\", \"wb\") as f:\n",
    "    f.write(to_bytes(model_params))\n",
    "\n",
    "with open(f\"transformer_model_params_100_epochs.msgpack\", \"rb\") as f:\n",
    "    model_params_loaded = from_bytes(model_params, f.read())\n",
    "\n",
    "assert jax.tree_util.tree_all(\n",
    "    jax.tree_util.tree_map(lambda x, y: jnp.array_equal(x, y), model_params, model_params_loaded)\n",
    ")"
   ]
  },
  {
   "cell_type": "markdown",
   "id": "8e6b9f7e",
   "metadata": {},
   "source": [
    "# Evaluate model"
   ]
  },
  {
   "cell_type": "code",
   "execution_count": 118,
   "id": "9471b8ea",
   "metadata": {},
   "outputs": [
    {
     "name": "stdout",
     "output_type": "stream",
     "text": [
      "\n",
      "Estimated LER on training data: 17.4790%\n"
     ]
    }
   ],
   "source": [
    "num_estimation_samples = 100000\n",
    "shuffle_key, [x_init, x, y, bz] = shuffle_data(shuffle_key, x_init, x, y, bz)\n",
    "estimated_ler = estimate_ler(model_params, x_init[:num_estimation_samples], x[:num_estimation_samples], y[:num_estimation_samples], bz[:num_estimation_samples])\n",
    "print(f\"\\nEstimated LER on training data: {estimated_ler:.4%}\")"
   ]
  },
  {
   "cell_type": "code",
   "execution_count": 112,
   "id": "8158de75",
   "metadata": {},
   "outputs": [
    {
     "name": "stdout",
     "output_type": "stream",
     "text": [
      "\n",
      "Experiment 0:\n",
      "Experiment in basis Z with observable outcome 1\n",
      "Round 0 probabilities:\t P_I = 40.43%\tP_X = 38.96%\tP_Y = 10.24%\tP_Z = 10.37%\n",
      "Round 1 probabilities:\t P_I =  9.16%\tP_X = 11.42%\tP_Y = 47.11%\tP_Z = 32.30%\n",
      "Round 2 probabilities:\t P_I = 48.12%\tP_X = 16.39%\tP_Y = 10.93%\tP_Z = 24.55%\n",
      "Round 3 probabilities:\t P_I = 51.20%\tP_X = 32.12%\tP_Y =  6.94%\tP_Z =  9.73%\n",
      "\n",
      "Experiment 1:\n",
      "Experiment in basis Z with observable outcome 0\n",
      "Round 0 probabilities:\t P_I = 24.77%\tP_X = 46.74%\tP_Y = 17.95%\tP_Z = 10.54%\n",
      "Round 1 probabilities:\t P_I = 20.36%\tP_X =  3.81%\tP_Y = 12.92%\tP_Z = 62.91%\n",
      "Round 2 probabilities:\t P_I = 40.84%\tP_X =  3.19%\tP_Y =  3.97%\tP_Z = 52.00%\n",
      "Round 3 probabilities:\t P_I =  4.81%\tP_X =  0.24%\tP_Y =  4.22%\tP_Z = 90.73%\n",
      "\n",
      "Experiment 2:\n",
      "Experiment in basis X with observable outcome 0\n",
      "Round 0 probabilities:\t P_I = 43.25%\tP_X = 34.57%\tP_Y =  7.27%\tP_Z = 14.91%\n",
      "Round 1 probabilities:\t P_I = 37.50%\tP_X = 34.64%\tP_Y = 13.57%\tP_Z = 14.29%\n",
      "Round 2 probabilities:\t P_I = 17.39%\tP_X = 71.64%\tP_Y =  8.86%\tP_Z =  2.11%\n",
      "Round 3 probabilities:\t P_I =  8.29%\tP_X = 66.01%\tP_Y = 22.16%\tP_Z =  3.53%\n",
      "\n",
      "Experiment 3:\n",
      "Experiment in basis Z with observable outcome 0\n",
      "Round 0 probabilities:\t P_I = 42.80%\tP_X = 40.35%\tP_Y =  8.15%\tP_Z =  8.70%\n",
      "Round 1 probabilities:\t P_I = 22.76%\tP_X = 11.53%\tP_Y = 23.13%\tP_Z = 42.59%\n",
      "Round 2 probabilities:\t P_I = 25.88%\tP_X = 27.47%\tP_Y = 20.98%\tP_Z = 25.67%\n",
      "Round 3 probabilities:\t P_I = 41.75%\tP_X = 11.61%\tP_Y =  9.55%\tP_Z = 37.09%\n",
      "\n",
      "Experiment 4:\n",
      "Experiment in basis Z with observable outcome 0\n",
      "Round 0 probabilities:\t P_I = 40.38%\tP_X = 48.82%\tP_Y =  5.61%\tP_Z =  5.19%\n",
      "Round 1 probabilities:\t P_I = 15.75%\tP_X =  7.51%\tP_Y = 27.25%\tP_Z = 49.49%\n",
      "Round 2 probabilities:\t P_I = 28.23%\tP_X =  5.73%\tP_Y = 12.69%\tP_Z = 53.35%\n",
      "Round 3 probabilities:\t P_I = 32.76%\tP_X =  8.69%\tP_Y = 12.32%\tP_Z = 46.22%\n",
      "\n",
      "Experiment 5:\n",
      "Experiment in basis X with observable outcome 0\n",
      "Round 0 probabilities:\t P_I = 44.60%\tP_X = 43.92%\tP_Y =  5.70%\tP_Z =  5.78%\n",
      "Round 1 probabilities:\t P_I = 42.07%\tP_X = 27.75%\tP_Y = 14.30%\tP_Z = 15.89%\n",
      "Round 2 probabilities:\t P_I = 40.07%\tP_X = 40.38%\tP_Y = 10.85%\tP_Z =  8.70%\n",
      "Round 3 probabilities:\t P_I = 26.48%\tP_X = 62.25%\tP_Y =  8.00%\tP_Z =  3.28%\n",
      "\n",
      "Experiment 6:\n",
      "Experiment in basis X with observable outcome 0\n",
      "Round 0 probabilities:\t P_I = 17.20%\tP_X = 52.67%\tP_Y = 21.52%\tP_Z =  8.62%\n",
      "Round 1 probabilities:\t P_I = 11.43%\tP_X = 16.89%\tP_Y = 43.19%\tP_Z = 28.50%\n",
      "Round 2 probabilities:\t P_I = 19.35%\tP_X = 50.25%\tP_Y = 21.94%\tP_Z =  8.47%\n",
      "Round 3 probabilities:\t P_I = 11.24%\tP_X = 72.66%\tP_Y = 13.49%\tP_Z =  2.61%\n",
      "\n",
      "Experiment 7:\n",
      "Experiment in basis Z with observable outcome 0\n",
      "Round 0 probabilities:\t P_I = 36.10%\tP_X = 49.59%\tP_Y =  8.24%\tP_Z =  6.06%\n",
      "Round 1 probabilities:\t P_I = 44.99%\tP_X = 11.55%\tP_Y = 11.04%\tP_Z = 32.42%\n",
      "Round 2 probabilities:\t P_I = 67.01%\tP_X =  5.58%\tP_Y =  2.50%\tP_Z = 24.90%\n",
      "Round 3 probabilities:\t P_I = 62.83%\tP_X =  6.96%\tP_Y =  2.93%\tP_Z = 27.29%\n",
      "\n",
      "Experiment 8:\n",
      "Experiment in basis Z with observable outcome 0\n",
      "Round 0 probabilities:\t P_I = 39.25%\tP_X = 36.59%\tP_Y =  9.76%\tP_Z = 14.40%\n",
      "Round 1 probabilities:\t P_I = 12.04%\tP_X =  2.31%\tP_Y = 13.69%\tP_Z = 71.96%\n",
      "Round 2 probabilities:\t P_I = 34.95%\tP_X =  2.86%\tP_Y =  4.74%\tP_Z = 57.45%\n",
      "Round 3 probabilities:\t P_I = 69.39%\tP_X =  5.47%\tP_Y =  1.59%\tP_Z = 23.54%\n",
      "\n",
      "Experiment 9:\n",
      "Experiment in basis X with observable outcome 0\n",
      "Round 0 probabilities:\t P_I = 49.73%\tP_X = 30.48%\tP_Y =  7.08%\tP_Z = 12.71%\n",
      "Round 1 probabilities:\t P_I = 46.37%\tP_X = 29.77%\tP_Y = 11.25%\tP_Z = 12.61%\n",
      "Round 2 probabilities:\t P_I = 52.36%\tP_X = 33.48%\tP_Y =  6.20%\tP_Z =  7.96%\n",
      "Round 3 probabilities:\t P_I = 49.94%\tP_X = 42.03%\tP_Y =  3.60%\tP_Z =  4.43%\n"
     ]
    }
   ],
   "source": [
    "for i in range(10):\n",
    "    print(f\"\\nExperiment {i}:\")\n",
    "    print(f\"Experiment in basis {'Z' if bz[i] else 'X'} with observable outcome {y[i]}\")\n",
    "    decoder_state = model.apply(model_params, x_init[i:i+1], method=model.apply_first_round)\n",
    "    probs = model.apply(model_params, decoder_state, method=model.apply_final_prediction)\n",
    "    # print(f\"Round 0 input:\\t\", x_init[i])\n",
    "    print(f\"Round 0 probabilities:\\t\", \"\\t\".join(f\"P_{pauli} = {p:6.2%}\" for pauli, p in zip(\"IXYZ\", probs[0])))\n",
    "    for r in range(x.shape[1]):\n",
    "        decoder_state = model.apply(model_params, decoder_state, x[i:i+1, r, :], method=model.apply_internal_round)\n",
    "        probs = model.apply(model_params, decoder_state, method=model.apply_final_prediction)\n",
    "        # print(f\"Round {r+1} input:\\t\", x[i, r])\n",
    "        print(f\"Round {r+1} probabilities:\\t\", \"\\t\".join(f\"P_{pauli} = {p:6.2%}\" for pauli, p in zip(\"IXYZ\", probs[0])))"
   ]
  }
 ],
 "metadata": {
  "kernelspec": {
   "display_name": ".venv (3.12.3)",
   "language": "python",
   "name": "python3"
  },
  "language_info": {
   "codemirror_mode": {
    "name": "ipython",
    "version": 3
   },
   "file_extension": ".py",
   "mimetype": "text/x-python",
   "name": "python",
   "nbconvert_exporter": "python",
   "pygments_lexer": "ipython3",
   "version": "3.12.3"
  }
 },
 "nbformat": 4,
 "nbformat_minor": 5
}
