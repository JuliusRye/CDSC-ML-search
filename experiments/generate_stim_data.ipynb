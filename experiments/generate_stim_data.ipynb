{
 "cells": [
  {
   "cell_type": "code",
   "execution_count": 1,
   "id": "236fea38",
   "metadata": {},
   "outputs": [],
   "source": [
    "import os\n",
    "from tqdm import tqdm\n",
    "from qecsim.models.rotatedplanar import RotatedPlanarCode\n",
    "from src.stim_noise_models import get_noise_model\n",
    "from src.circuit_builder import build_stim_circuit\n",
    "import jax.numpy as jnp\n",
    "from jax import random\n",
    "import json\n",
    "\n",
    "key = random.key(0) # Only affects the random deformations and basis not the circuit noise"
   ]
  },
  {
   "cell_type": "markdown",
   "id": "eba0aeff",
   "metadata": {},
   "source": [
    "# Collect data"
   ]
  },
  {
   "cell_type": "code",
   "execution_count": 50,
   "id": "650d35f0",
   "metadata": {},
   "outputs": [
    {
     "name": "stderr",
     "output_type": "stream",
     "text": [
      "Generating data: 100%|██████████████████████████████████████████████████████████████████████████████████████████████████████████████████████████████████████████████| 1000/1000 [01:50<00:00,  9.01it/s]\n"
     ]
    }
   ],
   "source": [
    "data_points = 1000\n",
    "rounds = 20\n",
    "code_width, code_height = 7, 7\n",
    "noise_model_name = \"spin\"\n",
    "\n",
    "code = RotatedPlanarCode(code_width, code_height)\n",
    "noise_model = get_noise_model(noise_model_name)\n",
    "num_syndrome_qubits = code.n_k_d[0] - 1\n",
    "\n",
    "experiments = []\n",
    "for _ in tqdm(range(data_points), \"Generating data\", ncols=200):\n",
    "    key, deformation_key, basis_key = random.split(key, 3)\n",
    "    allowed = jnp.array([1,2])\n",
    "    # Randomly choose a deformation for each data qubit\n",
    "    deformation = random.choice(deformation_key, allowed, shape=(code.n_k_d[0],), replace=True)\n",
    "    basis = ['+X', '-X', '+Z', '-Z'][random.randint(basis_key, (), 0, 4)]\n",
    "    circ = build_stim_circuit(code, deformation, rounds, basis=basis)\n",
    "    # circ = noise_model(circ)\n",
    "    sampler = circ.compile_sampler()\n",
    "    results = sampler.sample(shots=1)[0]\n",
    "    # Split the measurements into syndromes and observable\n",
    "    syndromes = results[:num_syndrome_qubits*rounds].reshape((rounds, num_syndrome_qubits))\n",
    "    observable = results[num_syndrome_qubits*rounds:].sum() % 2 # Check parity of observable\n",
    "    # Save the data\n",
    "    experiments.append({\n",
    "        \"deformation\": deformation.tolist(),\n",
    "        \"basis\": basis,\n",
    "        \"syndromes\": syndromes.tolist(),\n",
    "    })"
   ]
  },
  {
   "cell_type": "markdown",
   "id": "31f50c55",
   "metadata": {},
   "source": [
    "# Save the data"
   ]
  },
  {
   "cell_type": "code",
   "execution_count": 51,
   "id": "6265cf8e",
   "metadata": {},
   "outputs": [
    {
     "data": {
      "text/plain": [
       "'1k'"
      ]
     },
     "execution_count": 51,
     "metadata": {},
     "output_type": "execute_result"
    }
   ],
   "source": [
    "# Helper function to format numbers with scientific prefixes\n",
    "def scientific_prefix_formatter(num: int) -> str:\n",
    "    \"\"\"Formats a number with scientific prefixes for better readability.\n",
    "\n",
    "    Args:\n",
    "        num (int): The number to format.\n",
    "\n",
    "    Returns:\n",
    "        str: The formatted string with scientific prefix.\n",
    "    \"\"\"\n",
    "    prefixes = {1e9: 'G', 1e6: 'M', 1e3: 'k', 1: '', 1e-3: 'm', 1e-6: 'µ', 1e-9: 'n'}\n",
    "    for factor, prefix in prefixes.items():\n",
    "        if num >= factor:\n",
    "            formatted_num = num / factor\n",
    "            if formatted_num.is_integer():\n",
    "                return f\"{int(formatted_num)}{prefix}\"\n",
    "    return str(num)\n",
    "\n",
    "scientific_prefix_formatter(data_points)"
   ]
  },
  {
   "cell_type": "code",
   "execution_count": 52,
   "id": "b4e19aa2",
   "metadata": {},
   "outputs": [
    {
     "name": "stdout",
     "output_type": "stream",
     "text": [
      "Data saved to data_sets/stim_spin_7x7_1k_r20.json\n"
     ]
    }
   ],
   "source": [
    "save_as = f\"stim_{noise_model_name}_{code_width}x{code_height}_{scientific_prefix_formatter(data_points)}_r{rounds}\"\n",
    "if os.path.exists(f\"../data_sets/{save_as}.json\"):\n",
    "    raise FileExistsError(f\"File ../data_sets/{save_as}.json already exists. Please choose a different name to avoid overwriting existing data or manually delete the file.\")\n",
    "with open(f\"../data_sets/{save_as}.json\", \"w\") as f:\n",
    "    json.dump(experiments, f, indent=4)\n",
    "print(f\"Data saved to data_sets/{save_as}.json\")"
   ]
  }
 ],
 "metadata": {
  "kernelspec": {
   "display_name": ".venv",
   "language": "python",
   "name": "python3"
  },
  "language_info": {
   "codemirror_mode": {
    "name": "ipython",
    "version": 3
   },
   "file_extension": ".py",
   "mimetype": "text/x-python",
   "name": "python",
   "nbconvert_exporter": "python",
   "pygments_lexer": "ipython3",
   "version": "3.12.10"
  }
 },
 "nbformat": 4,
 "nbformat_minor": 5
}
