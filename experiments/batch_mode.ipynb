{
 "cells": [
  {
   "cell_type": "code",
   "execution_count": 1,
   "id": "af21db21",
   "metadata": {},
   "outputs": [],
   "source": [
    "import sys, os\n",
    "sys.path.append(os.path.abspath(\n",
    "    os.getcwd()+\"/src\")\n",
    ")"
   ]
  },
  {
   "cell_type": "code",
   "execution_count": 2,
   "id": "272c773a",
   "metadata": {},
   "outputs": [
    {
     "name": "stderr",
     "output_type": "stream",
     "text": [
      "WARNING:2025-09-18 09:25:55,859:jax._src.xla_bridge:864: An NVIDIA GPU may be present on this machine, but a CUDA-enabled jaxlib is not installed. Falling back to cpu.\n"
     ]
    }
   ],
   "source": [
    "from src.data_gen import sample_errors, sample_error_batch, noise_permutations_from_deformation\n",
    "from src.ModifiedRotatedPlanarRMPSDecoder import ModifiedRotatedPlanarRMPSDecoder\n",
    "from src.recursive_mwpm import recursive_mwpm, recursive_mwpm_batch\n",
    "import jax.numpy as jnp\n",
    "from jax import random, vmap\n",
    "from qecsim.models.rotatedplanar import RotatedPlanarCode\n",
    "from qecsim.models.generic import BiasedDepolarizingErrorModel\n",
    "from multiprocessing import Pool, cpu_count\n",
    "from functools import partial\n",
    "\n",
    "\n",
    "key = random.key(0)"
   ]
  },
  {
   "cell_type": "code",
   "execution_count": 3,
   "id": "a241adb0",
   "metadata": {},
   "outputs": [],
   "source": [
    "subkey, key = random.split(key)\n",
    "\n",
    "code = RotatedPlanarCode(3,3)\n",
    "noise_model = BiasedDepolarizingErrorModel(bias=10.0, axis='Y')\n",
    "error_probability = 0.1\n",
    "\n",
    "deformation = random.randint(subkey, shape=code.size, minval=0, maxval=6)\n",
    "noise_permutations = noise_permutations_from_deformation(deformation)\n",
    "\n",
    "bsv_decoder = ModifiedRotatedPlanarRMPSDecoder(chi=6)"
   ]
  },
  {
   "cell_type": "code",
   "execution_count": 4,
   "id": "35b08acb",
   "metadata": {},
   "outputs": [
    {
     "data": {
      "text/plain": [
       "Array([[0, 0, 0, ..., 0, 0, 0],\n",
       "       [0, 0, 0, ..., 0, 1, 0],\n",
       "       [0, 0, 0, ..., 0, 1, 0],\n",
       "       ...,\n",
       "       [0, 0, 0, ..., 0, 0, 0],\n",
       "       [0, 0, 0, ..., 0, 0, 0],\n",
       "       [0, 0, 0, ..., 1, 0, 0]], dtype=int32)"
      ]
     },
     "execution_count": 4,
     "metadata": {},
     "output_type": "execute_result"
    }
   ],
   "source": [
    "batch_size = 1000\n",
    "keys = random.split(key, num=batch_size+1)\n",
    "subkeys, key = keys[1:], keys[0]\n",
    "errors = sample_error_batch(key, batch_size, code, noise_model, error_probability, noise_permutations)\n",
    "errors"
   ]
  },
  {
   "cell_type": "code",
   "execution_count": 5,
   "id": "3817cbf6",
   "metadata": {},
   "outputs": [
    {
     "data": {
      "text/plain": [
       "Array([[0, 0, 0, ..., 0, 0, 0],\n",
       "       [1, 0, 1, ..., 0, 0, 0],\n",
       "       [1, 1, 0, ..., 0, 0, 0],\n",
       "       ...,\n",
       "       [0, 1, 0, ..., 0, 0, 0],\n",
       "       [0, 0, 0, ..., 0, 0, 0],\n",
       "       [0, 1, 0, ..., 0, 0, 0]], dtype=int32)"
      ]
     },
     "execution_count": 5,
     "metadata": {},
     "output_type": "execute_result"
    }
   ],
   "source": [
    "get_syndromes = vmap(\n",
    "    lambda code, error: code.stabilizers @ error % 2,\n",
    "    in_axes=(None, 0),\n",
    "    out_axes=0\n",
    ")\n",
    "syndromes = get_syndromes(code, errors)\n",
    "syndromes"
   ]
  },
  {
   "cell_type": "code",
   "execution_count": 8,
   "id": "36b098de",
   "metadata": {},
   "outputs": [
    {
     "name": "stdout",
     "output_type": "stream",
     "text": [
      "(1000, 18)\n"
     ]
    },
    {
     "data": {
      "text/plain": [
       "Array([[0, 0, 0, ..., 0, 0, 0],\n",
       "       [0, 0, 0, ..., 0, 1, 0],\n",
       "       [0, 0, 0, ..., 1, 0, 0],\n",
       "       ...,\n",
       "       [0, 0, 0, ..., 0, 0, 0],\n",
       "       [0, 0, 0, ..., 0, 0, 0],\n",
       "       [0, 0, 0, ..., 1, 0, 0]], dtype=int32)"
      ]
     },
     "execution_count": 8,
     "metadata": {},
     "output_type": "execute_result"
    }
   ],
   "source": [
    "mwpm_recoveries = recursive_mwpm_batch(code, syndromes, noise_model, error_probability, noise_permutations)\n",
    "print(mwpm_recoveries.shape)\n",
    "mwpm_recoveries"
   ]
  },
  {
   "cell_type": "code",
   "execution_count": 9,
   "id": "e8ced4b9",
   "metadata": {},
   "outputs": [
    {
     "name": "stdout",
     "output_type": "stream",
     "text": [
      "(1000, 18)\n"
     ]
    },
    {
     "data": {
      "text/plain": [
       "array([[0, 0, 0, ..., 0, 0, 0],\n",
       "       [0, 0, 1, ..., 0, 0, 0],\n",
       "       [0, 1, 0, ..., 0, 0, 0],\n",
       "       ...,\n",
       "       [1, 0, 0, ..., 0, 0, 0],\n",
       "       [0, 0, 0, ..., 0, 0, 0],\n",
       "       [1, 0, 0, ..., 0, 0, 0]], shape=(1000, 18), dtype=int32)"
      ]
     },
     "execution_count": 9,
     "metadata": {},
     "output_type": "execute_result"
    }
   ],
   "source": [
    "bsv_recoveries = bsv_decoder.decode_batch(code, syndromes, noise_model, error_probability, noise_permutations)\n",
    "print(bsv_recoveries.shape)\n",
    "bsv_recoveries"
   ]
  }
 ],
 "metadata": {
  "kernelspec": {
   "display_name": ".venv",
   "language": "python",
   "name": "python3"
  },
  "language_info": {
   "codemirror_mode": {
    "name": "ipython",
    "version": 3
   },
   "file_extension": ".py",
   "mimetype": "text/x-python",
   "name": "python",
   "nbconvert_exporter": "python",
   "pygments_lexer": "ipython3",
   "version": "3.12.3"
  }
 },
 "nbformat": 4,
 "nbformat_minor": 5
}
