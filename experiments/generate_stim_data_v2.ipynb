{
 "cells": [
  {
   "cell_type": "code",
   "execution_count": 6,
   "id": "236fea38",
   "metadata": {},
   "outputs": [],
   "source": [
    "import os\n",
    "from tqdm import tqdm\n",
    "from qecsim.models.rotatedplanar import RotatedPlanarCode\n",
    "from src.stim_noise_models import get_noise_model\n",
    "from src.circuit_builder import build_stim_circuit_v2\n",
    "import jax.numpy as jnp\n",
    "from jax import random\n",
    "import stim\n",
    "\n",
    "key = random.key(0) # Only affects the random deformations"
   ]
  },
  {
   "cell_type": "markdown",
   "id": "eba0aeff",
   "metadata": {},
   "source": [
    "# Collect data"
   ]
  },
  {
   "cell_type": "code",
   "execution_count": 8,
   "id": "46344eb3",
   "metadata": {},
   "outputs": [
    {
     "name": "stderr",
     "output_type": "stream",
     "text": [
      "Generating data: 100%|████████████████████████████████████████████████████████████████████████████████████████████| 1000/1000 [00:45<00:00, 21.91it/s]\n"
     ]
    }
   ],
   "source": [
    "unique_deformations = 1000\n",
    "deformation_options = jnp.array([0,1,2,3,4,5])\n",
    "samples_per_deformation = 1000\n",
    "code_distance = 3\n",
    "num_rounds = 3\n",
    "noise_model_name = \"spin\"\n",
    "\n",
    "num_stabilizers = code_distance**2-1\n",
    "code = RotatedPlanarCode(code_distance, code_distance)\n",
    "noise_model = get_noise_model(noise_model_name)\n",
    "\n",
    "data = {\n",
    "    \"deformations\": jnp.empty((unique_deformations*2, code_distance**2), dtype=jnp.int8),\n",
    "    \"syndromes_initial\": jnp.empty((unique_deformations*2, samples_per_deformation, num_stabilizers), dtype=jnp.int8),\n",
    "    \"syndromes_rounds\": jnp.empty((unique_deformations*2, samples_per_deformation, num_rounds, num_stabilizers), dtype=jnp.int8),\n",
    "    \"observables\": jnp.empty((unique_deformations*2, samples_per_deformation), dtype=jnp.int8),\n",
    "    \"is_using_the_z_basis\": jnp.empty((unique_deformations*2,), dtype=jnp.bool_),\n",
    "}\n",
    "for i in tqdm(range(unique_deformations), desc=\"Generating data\", ncols=150):\n",
    "    subkey, key = random.split(key)\n",
    "    deformation = random.choice(subkey, deformation_options, shape=(code_distance**2,))\n",
    "    x_basis_stim_circuit, z_basis_stim_circuit = build_stim_circuit_v2(code, deformation, num_rounds+1)\n",
    "    for j, circ in enumerate([z_basis_stim_circuit, x_basis_stim_circuit]):\n",
    "        noisy_circ: stim.Circuit = noise_model(circ)\n",
    "        sampler = noisy_circ.compile_sampler()\n",
    "        results = sampler.sample(shots=samples_per_deformation)\n",
    "        syndromes_, observables_ = results[:, :-code_distance], results[:, -code_distance:]\n",
    "        syndromes = syndromes_.reshape(samples_per_deformation, num_rounds+1, num_stabilizers)\n",
    "        syndromes_init = syndromes[:, 0]\n",
    "        syndromes_rounds = syndromes[:, 1:]  # Exclude initial round\n",
    "        observables = observables_.sum(axis=1) % 2\n",
    "        # Store data\n",
    "        data[\"deformations\"] = data[\"deformations\"].at[i*2+j].set(deformation.astype(data[\"deformations\"].dtype))\n",
    "        data[\"syndromes_initial\"] = data[\"syndromes_initial\"].at[i*2+j].set(syndromes_init.astype(data[\"syndromes_initial\"].dtype))\n",
    "        data[\"syndromes_rounds\"] = data[\"syndromes_rounds\"].at[i*2+j].set(syndromes_rounds.astype(data[\"syndromes_rounds\"].dtype))\n",
    "        data[\"observables\"] = data[\"observables\"].at[i*2+j].set(observables.astype(data[\"observables\"].dtype))\n",
    "        data[\"is_using_the_z_basis\"] = data[\"is_using_the_z_basis\"].at[i*2+j].set(j == 0)"
   ]
  },
  {
   "cell_type": "markdown",
   "id": "31f50c55",
   "metadata": {},
   "source": [
    "# Save the data"
   ]
  },
  {
   "cell_type": "code",
   "execution_count": null,
   "id": "b4e19aa2",
   "metadata": {},
   "outputs": [],
   "source": [
    "save_as = f\"stim_{noise_model_name}_{code_distance}x{code_distance}_r{num_rounds}\"\n",
    "if os.path.exists(f\"../data_sets/{save_as}\"):\n",
    "    raise FileExistsError(f\"Directory ../data_sets/{save_as} already exists. Please choose a different name to avoid overwriting existing data or manually delete the file.\")\n",
    "os.makedirs(f\"../data_sets/{save_as}\")  \n",
    "for name, val in data.items():\n",
    "    jnp.save(f\"../data_sets/{save_as}/{name}.npy\", val)"
   ]
  }
 ],
 "metadata": {
  "kernelspec": {
   "display_name": ".venv",
   "language": "python",
   "name": "python3"
  },
  "language_info": {
   "codemirror_mode": {
    "name": "ipython",
    "version": 3
   },
   "file_extension": ".py",
   "mimetype": "text/x-python",
   "name": "python",
   "nbconvert_exporter": "python",
   "pygments_lexer": "ipython3",
   "version": "3.12.10"
  }
 },
 "nbformat": 4,
 "nbformat_minor": 5
}
